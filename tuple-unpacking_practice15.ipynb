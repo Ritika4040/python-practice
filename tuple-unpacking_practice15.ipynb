{
 "cells": [
  {
   "cell_type": "code",
   "execution_count": 1,
   "id": "2afaeb69-f3bf-4e06-987d-f2c84de24942",
   "metadata": {},
   "outputs": [],
   "source": [
    "stock_prices = [('Apple', 200), ('Google', 400), ('Microsoft', 100)]"
   ]
  },
  {
   "cell_type": "code",
   "execution_count": 2,
   "id": "0aca27c4-7892-42dc-967f-667509208f55",
   "metadata": {},
   "outputs": [
    {
     "name": "stdout",
     "output_type": "stream",
     "text": [
      "('Apple', 200)\n",
      "('Google', 400)\n",
      "('Microsoft', 100)\n"
     ]
    }
   ],
   "source": [
    "for item in stock_prices:\n",
    "    print(item)"
   ]
  },
  {
   "cell_type": "code",
   "execution_count": 3,
   "id": "f7250a6d-afcd-4599-8682-66e26e288b6d",
   "metadata": {},
   "outputs": [
    {
     "name": "stdout",
     "output_type": "stream",
     "text": [
      "Apple\n",
      "Google\n",
      "Microsoft\n"
     ]
    }
   ],
   "source": [
    "for ticker, price in stock_prices:\n",
    "    print(ticker)"
   ]
  },
  {
   "cell_type": "code",
   "execution_count": 13,
   "id": "cf392076-0ec8-4ddb-9495-1f3522705a72",
   "metadata": {},
   "outputs": [
    {
     "name": "stdout",
     "output_type": "stream",
     "text": [
      "220.0\n",
      "440.0\n",
      "110.0\n"
     ]
    }
   ],
   "source": [
    "for ticker, price in stock_prices:\n",
    "    print(price + 0.1 * price)"
   ]
  },
  {
   "cell_type": "code",
   "execution_count": 30,
   "id": "24483ed3-9b16-4e93-b6b1-63247b5753f5",
   "metadata": {},
   "outputs": [],
   "source": [
    "work_hours = [('Abby', 100), ('Billy', 400), ('Cassie', 800)]\n",
    "\n",
    "def employee_check(work_hours):\n",
    "    current_max = 0\n",
    "    employee_of_month = ''\n",
    "    for employee, hours in work_hours:\n",
    "        if hours > current_max:\n",
    "            current_max = hours\n",
    "            employee_of_month = employee\n",
    "    return (employee_of_month, current_max)"
   ]
  },
  {
   "cell_type": "code",
   "execution_count": 31,
   "id": "dc8cadbd-8196-4634-910e-39fb57c4989e",
   "metadata": {},
   "outputs": [
    {
     "data": {
      "text/plain": [
       "('Billy', 4000)"
      ]
     },
     "execution_count": 31,
     "metadata": {},
     "output_type": "execute_result"
    }
   ],
   "source": [
    "employee_check(work_hours)"
   ]
  },
  {
   "cell_type": "code",
   "execution_count": 32,
   "id": "7cbefcab-83fb-4e77-8c8f-964b332dea41",
   "metadata": {},
   "outputs": [
    {
     "data": {
      "text/plain": [
       "('Billy', 4000)"
      ]
     },
     "execution_count": 32,
     "metadata": {},
     "output_type": "execute_result"
    }
   ],
   "source": [
    "work_hours = [('Abby', 100), ('Billy', 4000), ('Cassie', 800)]\n",
    "employee_check(work_hours)"
   ]
  },
  {
   "cell_type": "code",
   "execution_count": 33,
   "id": "b5c87149-2b98-47b8-9fb9-2124d6001e23",
   "metadata": {},
   "outputs": [
    {
     "name": "stdout",
     "output_type": "stream",
     "text": [
      "('Billy', 4000)\n"
     ]
    }
   ],
   "source": [
    "result = employee_check(work_hours)\n",
    "print(result)"
   ]
  },
  {
   "cell_type": "code",
   "execution_count": 34,
   "id": "1cf0b66d-ccb7-4acb-983e-c3a20c2d7a8f",
   "metadata": {},
   "outputs": [
    {
     "name": "stdout",
     "output_type": "stream",
     "text": [
      "Billy\n",
      "4000\n"
     ]
    }
   ],
   "source": [
    "name, hours = employee_check(work_hours)\n",
    "print(name)\n",
    "print(hours)"
   ]
  },
  {
   "cell_type": "code",
   "execution_count": 35,
   "id": "d2e9d304-3fca-4b05-a92e-7313d536a2f5",
   "metadata": {},
   "outputs": [
    {
     "name": "stdout",
     "output_type": "stream",
     "text": [
      "('Billy', 4000)\n"
     ]
    }
   ],
   "source": [
    "result = employee_check(work_hours)\n",
    "print(result)"
   ]
  },
  {
   "cell_type": "code",
   "execution_count": 36,
   "id": "11114421-2a3c-455c-b397-c469053e269e",
   "metadata": {},
   "outputs": [],
   "source": [
    "name, hours = employee_check(work_hours)"
   ]
  },
  {
   "cell_type": "code",
   "execution_count": 37,
   "id": "cdbb06a2-a899-458f-b180-fd04252c537e",
   "metadata": {},
   "outputs": [
    {
     "data": {
      "text/plain": [
       "('Billy', 4000)"
      ]
     },
     "execution_count": 37,
     "metadata": {},
     "output_type": "execute_result"
    }
   ],
   "source": [
    "result\n"
   ]
  },
  {
   "cell_type": "code",
   "execution_count": 38,
   "id": "ef417ebf-d82b-4025-a849-72b8d741eb0c",
   "metadata": {},
   "outputs": [
    {
     "data": {
      "text/plain": [
       "'Billy'"
      ]
     },
     "execution_count": 38,
     "metadata": {},
     "output_type": "execute_result"
    }
   ],
   "source": [
    "name"
   ]
  },
  {
   "cell_type": "code",
   "execution_count": 39,
   "id": "b9ff5517-8355-4819-81a7-bb1c696f026e",
   "metadata": {},
   "outputs": [
    {
     "data": {
      "text/plain": [
       "4000"
      ]
     },
     "execution_count": 39,
     "metadata": {},
     "output_type": "execute_result"
    }
   ],
   "source": [
    "hours"
   ]
  },
  {
   "cell_type": "markdown",
   "id": "4dc17e0c-9b7a-4f07-a5f2-14b038a88334",
   "metadata": {},
   "source": [
    "Interactions between Python Functions"
   ]
  },
  {
   "cell_type": "code",
   "execution_count": 40,
   "id": "56feb022-ddab-4997-8437-94a0e18a25b2",
   "metadata": {},
   "outputs": [],
   "source": [
    "example=[1,2,3,4,5,6,7,8]"
   ]
  },
  {
   "cell_type": "code",
   "execution_count": 41,
   "id": "59aa7ab3-2a12-4722-9f75-815037364941",
   "metadata": {},
   "outputs": [],
   "source": [
    "from random import shuffle"
   ]
  },
  {
   "cell_type": "code",
   "execution_count": 42,
   "id": "f50b620d-a173-47ae-8e99-8bee7bacd303",
   "metadata": {},
   "outputs": [],
   "source": [
    "shuffle(example)"
   ]
  },
  {
   "cell_type": "code",
   "execution_count": 43,
   "id": "4a944229-bc77-4988-b8b5-a3e64ba05b9d",
   "metadata": {},
   "outputs": [
    {
     "data": {
      "text/plain": [
       "[5, 8, 3, 1, 6, 4, 7, 2]"
      ]
     },
     "execution_count": 43,
     "metadata": {},
     "output_type": "execute_result"
    }
   ],
   "source": [
    "example"
   ]
  },
  {
   "cell_type": "code",
   "execution_count": 44,
   "id": "7be1cbdd-ead7-4efb-a7fa-c82858fde4de",
   "metadata": {},
   "outputs": [],
   "source": [
    "def shuffle_list(mylist):\n",
    "    shuffle(mylist)\n",
    "    return mylist"
   ]
  },
  {
   "cell_type": "code",
   "execution_count": 45,
   "id": "ff164c0b-3598-40a3-a090-998de46af2ba",
   "metadata": {},
   "outputs": [],
   "source": [
    "result=shuffle_list(example)"
   ]
  },
  {
   "cell_type": "code",
   "execution_count": 46,
   "id": "472f11ed-aef0-472b-8577-b22454a22a7a",
   "metadata": {},
   "outputs": [
    {
     "data": {
      "text/plain": [
       "[8, 7, 6, 3, 1, 4, 2, 5]"
      ]
     },
     "execution_count": 46,
     "metadata": {},
     "output_type": "execute_result"
    }
   ],
   "source": [
    "result"
   ]
  },
  {
   "cell_type": "code",
   "execution_count": 47,
   "id": "fcb0d5e4-6230-44fa-a32e-3be945373b7c",
   "metadata": {},
   "outputs": [],
   "source": [
    "game_list = ['', 'O', '']"
   ]
  },
  {
   "cell_type": "code",
   "execution_count": 50,
   "id": "33314da5-c939-4dee-929a-e06afe86b191",
   "metadata": {},
   "outputs": [],
   "source": [
    "def player_guess():\n",
    "    guess = ''\n",
    "    while guess not in ['0', '1', '2']:\n",
    "        guess = input('Pick a number: 0, 1, or 2: ')\n",
    "    return int(guess)"
   ]
  },
  {
   "cell_type": "code",
   "execution_count": 53,
   "id": "fe7a1513-1b45-41a7-8fb2-d3857a9cbcbb",
   "metadata": {},
   "outputs": [],
   "source": [
    "def check_guess(mylist, guess):\n",
    "    if mylist[guess] == 'O':\n",
    "        print('Correct!')\n",
    "    else:\n",
    "        print('Wrong guess!')\n",
    "        print(mylist)"
   ]
  },
  {
   "cell_type": "code",
   "execution_count": 55,
   "id": "88781461-31b2-4397-90fb-f5c661c70656",
   "metadata": {},
   "outputs": [
    {
     "name": "stdin",
     "output_type": "stream",
     "text": [
      "Pick a number: 0, 1, or 2:  4\n",
      "Pick a number: 0, 1, or 2:  a\n",
      "Pick a number: 0, 1, or 2:  0\n"
     ]
    },
    {
     "name": "stdout",
     "output_type": "stream",
     "text": [
      "Correct!\n"
     ]
    }
   ],
   "source": [
    "mylist = ['', 'O', '']\n",
    "mixedup_list = shuffle_list(mylist)\n",
    "guess = player_guess()\n",
    "check_guess(mixedup_list, guess)"
   ]
  },
  {
   "cell_type": "code",
   "execution_count": null,
   "id": "2bb1d438-30c2-4716-9bbd-94a9c68b9b1d",
   "metadata": {},
   "outputs": [],
   "source": []
  }
 ],
 "metadata": {
  "kernelspec": {
   "display_name": "Python [conda env:base] *",
   "language": "python",
   "name": "conda-base-py"
  },
  "language_info": {
   "codemirror_mode": {
    "name": "ipython",
    "version": 3
   },
   "file_extension": ".py",
   "mimetype": "text/x-python",
   "name": "python",
   "nbconvert_exporter": "python",
   "pygments_lexer": "ipython3",
   "version": "3.13.5"
  }
 },
 "nbformat": 4,
 "nbformat_minor": 5
}
