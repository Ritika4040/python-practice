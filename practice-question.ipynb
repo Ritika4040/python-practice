{
 "cells": [
  {
   "cell_type": "markdown",
   "id": "22374180-539d-456a-a4bc-38fde9205c3b",
   "metadata": {},
   "source": [
    "1) convert this into a list and store each character in list : My Address is : 12 Anant Vihar 13 Sector"
   ]
  },
  {
   "cell_type": "code",
   "execution_count": 1,
   "id": "46440ed2-b22c-411e-86ab-325c1dfe68d8",
   "metadata": {},
   "outputs": [],
   "source": [
    "l='My Address is : 12 Anant Vihar 13 Sector'"
   ]
  },
  {
   "cell_type": "code",
   "execution_count": 15,
   "id": "1d8a1941-12f7-471d-bd74-0ec4a6600f19",
   "metadata": {},
   "outputs": [],
   "source": [
    "cmd= l.split()"
   ]
  },
  {
   "cell_type": "code",
   "execution_count": 16,
   "id": "0c236c9d-e789-46d9-bb29-90e00c24b88d",
   "metadata": {},
   "outputs": [
    {
     "data": {
      "text/plain": [
       "['My', 'Address', 'is', ':', '12', 'Anant', 'Vihar', '13', 'Sector']"
      ]
     },
     "execution_count": 16,
     "metadata": {},
     "output_type": "execute_result"
    }
   ],
   "source": [
    "cmd"
   ]
  },
  {
   "cell_type": "markdown",
   "id": "5491f728-0dfd-467e-af3e-0246a36f9dbf",
   "metadata": {},
   "source": [
    "2) convert this into a list and store each character in list - My Address is : 12, Anant Vihar, 13 Sector\n"
   ]
  },
  {
   "cell_type": "code",
   "execution_count": 10,
   "id": "82fb0118-ef28-422a-9169-9c6cc1add557",
   "metadata": {},
   "outputs": [],
   "source": [
    "n='My Address is : 12, Anant Vihar, 13 Sector'"
   ]
  },
  {
   "cell_type": "code",
   "execution_count": 11,
   "id": "586e3311-40f6-4f18-8139-2ccd834e7e32",
   "metadata": {},
   "outputs": [],
   "source": [
    "char= n.split(',')"
   ]
  },
  {
   "cell_type": "code",
   "execution_count": 12,
   "id": "4babfb67-36ad-446b-a5a2-719615c7673e",
   "metadata": {},
   "outputs": [
    {
     "data": {
      "text/plain": [
       "['My Address is : 12', ' Anant Vihar', ' 13 Sector']"
      ]
     },
     "execution_count": 12,
     "metadata": {},
     "output_type": "execute_result"
    }
   ],
   "source": [
    "char\n"
   ]
  },
  {
   "cell_type": "markdown",
   "id": "f44c32b3-d7f1-43e7-b59b-b7493b244776",
   "metadata": {},
   "source": [
    "3) Create a Calculator where number it should perform operations based on add, subtract, multiply divide operations based on instructions\n",
    "For example\n",
    "add 1,3\n",
    "subtract 4,5\n",
    "multiply 5,6\n",
    "divide 4,2"
   ]
  },
  {
   "cell_type": "code",
   "execution_count": 101,
   "id": "c933988c-a174-417c-8c78-9d830eef46ee",
   "metadata": {},
   "outputs": [
    {
     "name": "stdin",
     "output_type": "stream",
     "text": [
      " 4\n",
      " add 1,3\n"
     ]
    },
    {
     "name": "stdout",
     "output_type": "stream",
     "text": [
      "['add', '1,3', 4]\n"
     ]
    },
    {
     "name": "stdin",
     "output_type": "stream",
     "text": [
      " subtract 4,5\n"
     ]
    },
    {
     "name": "stdout",
     "output_type": "stream",
     "text": [
      "['subtract', '4,5', -1]\n"
     ]
    },
    {
     "name": "stdin",
     "output_type": "stream",
     "text": [
      " multiply 5,6\n"
     ]
    },
    {
     "name": "stdout",
     "output_type": "stream",
     "text": [
      "['multiply', '5,6', 30]\n"
     ]
    },
    {
     "name": "stdin",
     "output_type": "stream",
     "text": [
      " divide 4,2\n"
     ]
    },
    {
     "name": "stdout",
     "output_type": "stream",
     "text": [
      "['divide', '4,2', 2]\n"
     ]
    }
   ],
   "source": [
    "N =int(input())\n",
    "cmd=[]\n",
    "for i in range(N):\n",
    "    i=input()\n",
    "    cmd=i.split()\n",
    "    if cmd[0]=='add':\n",
    "        num= cmd[1].split(',') \n",
    "        add=(int(num[0])+int(num[1]))\n",
    "        cmd.append(add)\n",
    "        print(cmd)\n",
    "    elif cmd[0]=='subtract':\n",
    "        num= cmd[1].split(',') \n",
    "        subtract=(int(num[0])-int(num[1]))\n",
    "        cmd.append(subtract)\n",
    "        print(cmd)\n",
    "    elif cmd[0]=='multiply':\n",
    "        num= cmd[1].split(',') \n",
    "        multiply=(int(num[0])*int(num[1]))\n",
    "        cmd.append(multiply)\n",
    "        print(cmd)\n",
    "    elif cmd[0]=='divide':\n",
    "        num= cmd[1].split(',') \n",
    "        divide=(int(num[0])//int(num[1]))\n",
    "        cmd.append(divide)\n",
    "    else:\n",
    "        print('invalid')\n",
    "print(cmd)  "
   ]
  },
  {
   "cell_type": "code",
   "execution_count": null,
   "id": "9860b79e-eb79-4571-bd7f-4bc272c10744",
   "metadata": {},
   "outputs": [],
   "source": []
  }
 ],
 "metadata": {
  "kernelspec": {
   "display_name": "Python [conda env:base] *",
   "language": "python",
   "name": "conda-base-py"
  },
  "language_info": {
   "codemirror_mode": {
    "name": "ipython",
    "version": 3
   },
   "file_extension": ".py",
   "mimetype": "text/x-python",
   "name": "python",
   "nbconvert_exporter": "python",
   "pygments_lexer": "ipython3",
   "version": "3.13.5"
  }
 },
 "nbformat": 4,
 "nbformat_minor": 5
}
