{
 "cells": [
  {
   "cell_type": "code",
   "execution_count": 7,
   "id": "cfa99c7b-5905-4be3-815f-ed690e83e724",
   "metadata": {},
   "outputs": [
    {
     "name": "stdout",
     "output_type": "stream",
     "text": [
      "Hello, Alice\n"
     ]
    }
   ],
   "source": [
    "def greet(name):\n",
    "    print(\"Hello,\", name)\n",
    "\n",
    "greet(\"Alice\")"
   ]
  },
  {
   "cell_type": "code",
   "execution_count": 8,
   "id": "6d6a5217-1c6b-4be2-a726-127d71603957",
   "metadata": {},
   "outputs": [
    {
     "name": "stdout",
     "output_type": "stream",
     "text": [
      "8\n"
     ]
    }
   ],
   "source": [
    "add = lambda a, b: a + b\n",
    "print(add(3, 5))"
   ]
  },
  {
   "cell_type": "code",
   "execution_count": 22,
   "id": "38f84eaa-d664-43ff-ac34-ce17e31572ed",
   "metadata": {},
   "outputs": [
    {
     "name": "stdin",
     "output_type": "stream",
     "text": [
      " 98\n"
     ]
    },
    {
     "name": "stdout",
     "output_type": "stream",
     "text": [
      "9.899494936611665\n"
     ]
    }
   ],
   "source": [
    "n=int(input())\n",
    "cmd=(math.sqrt(n))\n",
    "print(cmd)"
   ]
  },
  {
   "cell_type": "code",
   "execution_count": 25,
   "id": "b91e8e14-8bc4-4e78-a33f-1c13065c4208",
   "metadata": {},
   "outputs": [
    {
     "name": "stdin",
     "output_type": "stream",
     "text": [
      " 5\n"
     ]
    },
    {
     "name": "stdout",
     "output_type": "stream",
     "text": [
      "120\n"
     ]
    }
   ],
   "source": [
    "n=int(input())\n",
    "cmd=(math.factorial(n))\n",
    "print(cmd)"
   ]
  },
  {
   "cell_type": "code",
   "execution_count": 28,
   "id": "12dc591a-69a4-4ec6-9006-f6735982fa9e",
   "metadata": {},
   "outputs": [
    {
     "name": "stdout",
     "output_type": "stream",
     "text": [
      "Length of name: 7\n"
     ]
    }
   ],
   "source": [
    "name = \"manohar\"\n",
    "print(\"Length of name:\", len(name)) "
   ]
  },
  {
   "cell_type": "code",
   "execution_count": 32,
   "id": "8610f752-3ae1-4650-af2c-6930c3cc5452",
   "metadata": {},
   "outputs": [
    {
     "name": "stdin",
     "output_type": "stream",
     "text": [
      " ron\n"
     ]
    },
    {
     "name": "stdout",
     "output_type": "stream",
     "text": [
      "<class 'str'>\n"
     ]
    }
   ],
   "source": [
    "w =  input()\n",
    "print(type(age))"
   ]
  },
  {
   "cell_type": "code",
   "execution_count": 34,
   "id": "57e4aa79-d382-4657-8486-e6970ba0cd0e",
   "metadata": {},
   "outputs": [
    {
     "name": "stdout",
     "output_type": "stream",
     "text": [
      "Max: 50\n",
      "Min: 10\n"
     ]
    }
   ],
   "source": [
    "num = [10, 50, 30]\n",
    "print(\"Max:\", max(num))  \n",
    "print(\"Min:\", min(num))"
   ]
  },
  {
   "cell_type": "code",
   "execution_count": 39,
   "id": "4fedc012-1561-4377-b0bf-b2272818f582",
   "metadata": {},
   "outputs": [
    {
     "name": "stdin",
     "output_type": "stream",
     "text": [
      " 20 30 15\n"
     ]
    },
    {
     "name": "stdout",
     "output_type": "stream",
     "text": [
      "Max: 30\n",
      "Min: 15\n"
     ]
    }
   ],
   "source": [
    "num = input()\n",
    "cmd=num.split()\n",
    "cmd = [int(i) for i in cmd]\n",
    "print(\"Max:\", max (cmd))  \n",
    "print(\"Min:\", min (cmd))"
   ]
  },
  {
   "cell_type": "code",
   "execution_count": 40,
   "id": "908b9956-716d-4ed2-83f9-339b9d575c94",
   "metadata": {},
   "outputs": [
    {
     "name": "stdout",
     "output_type": "stream",
     "text": [
      "Sum: 10\n"
     ]
    }
   ],
   "source": [
    "numbers = [1, 2, 3, 4]\n",
    "print(\"Sum:\", sum(numbers))"
   ]
  },
  {
   "cell_type": "code",
   "execution_count": 41,
   "id": "d1eff58e-6476-4006-a614-7aa2304c505d",
   "metadata": {},
   "outputs": [
    {
     "name": "stdin",
     "output_type": "stream",
     "text": [
      " 5 8 10 15\n"
     ]
    },
    {
     "name": "stdout",
     "output_type": "stream",
     "text": [
      "sum : 38\n"
     ]
    }
   ],
   "source": [
    "num=input()\n",
    "cmd=num.split()\n",
    "cmd=[int(i)for i in cmd]\n",
    "print('sum :',sum(cmd) )"
   ]
  },
  {
   "cell_type": "code",
   "execution_count": 42,
   "id": "f8606c92-84b7-4238-a61f-7b05137ab917",
   "metadata": {},
   "outputs": [
    {
     "name": "stdout",
     "output_type": "stream",
     "text": [
      "Sorted: [1, 3, 5, 7]\n"
     ]
    }
   ],
   "source": [
    "nums = [5, 1, 7, 3]\n",
    "print(\"Sorted:\", sorted(nums))"
   ]
  },
  {
   "cell_type": "code",
   "execution_count": 44,
   "id": "b069b0ce-f95d-40c2-9793-a4b8d7abf803",
   "metadata": {},
   "outputs": [
    {
     "name": "stdin",
     "output_type": "stream",
     "text": [
      " 3 8 6 9 2 4 1 7 \n"
     ]
    },
    {
     "name": "stdout",
     "output_type": "stream",
     "text": [
      "Sorted: [1, 2, 3, 4, 6, 7, 8, 9]\n"
     ]
    }
   ],
   "source": [
    "num=input()\n",
    "cmd=num.split()\n",
    "cmd=[int(i)for i in cmd]\n",
    "print(\"Sorted:\", sorted(cmd))"
   ]
  },
  {
   "cell_type": "code",
   "execution_count": 45,
   "id": "e22135dd-aad6-4f59-8043-feeca7855ad0",
   "metadata": {},
   "outputs": [
    {
     "name": "stdout",
     "output_type": "stream",
     "text": [
      "Reversed: [3, 2, 1]\n"
     ]
    }
   ],
   "source": [
    "nums = [1, 2, 3]\n",
    "print(\"Reversed:\", list(reversed(nums)))\n"
   ]
  },
  {
   "cell_type": "code",
   "execution_count": 47,
   "id": "c60a5421-ac47-49be-b281-241893114062",
   "metadata": {},
   "outputs": [
    {
     "name": "stdin",
     "output_type": "stream",
     "text": [
      " 5 4 3 2 1\n"
     ]
    },
    {
     "name": "stdout",
     "output_type": "stream",
     "text": [
      "Reversed: [1, 2, 3, 4, 5]\n"
     ]
    }
   ],
   "source": [
    "num=input()\n",
    "cmd=num.split()\n",
    "cmd=[int(i)for i in cmd]\n",
    "print(\"Reversed:\", list(reversed(cmd)))"
   ]
  },
  {
   "cell_type": "code",
   "execution_count": 50,
   "id": "25599f8f-83db-4b9c-88d5-969b7c7ef793",
   "metadata": {},
   "outputs": [
    {
     "name": "stdin",
     "output_type": "stream",
     "text": [
      " 2 4 5 6 8 10\n"
     ]
    },
    {
     "name": "stdout",
     "output_type": "stream",
     "text": [
      "Max: 10\n",
      "Min: 2\n",
      "Sum: 35\n",
      "Sorted: [2, 4, 5, 6, 8, 10]\n",
      "Average: 5.833333333333333\n"
     ]
    }
   ],
   "source": [
    "nums = input()\n",
    "cmd=nums.split()\n",
    "cmd=[int(i)for i in cmd]\n",
    "\n",
    "print(\"Max:\", max(cmd))\n",
    "print(\"Min:\", min(cmd))\n",
    "print(\"Sum:\", sum(cmd))\n",
    "print(\"Sorted:\", sorted(cmd))\n",
    "print(\"Average:\", sum(cmd)/len(cmd))"
   ]
  },
  {
   "cell_type": "code",
   "execution_count": 54,
   "id": "b42db197-75bd-4b66-8753-448fa53e4748",
   "metadata": {},
   "outputs": [
    {
     "name": "stdin",
     "output_type": "stream",
     "text": [
      " hello! how are you\n"
     ]
    },
    {
     "name": "stdout",
     "output_type": "stream",
     "text": [
      "Words: ['hello!', 'how', 'are', 'you']\n",
      "Word Count: 4\n",
      "Longest Word: hello!\n",
      "All uppercase: ['HELLO!', 'HOW', 'ARE', 'YOU']\n",
      "Words in reverse: ['you', 'are', 'how', 'hello!']\n"
     ]
    }
   ],
   "source": [
    "text = input()\n",
    "words = text.split()\n",
    "print(\"Words:\", words)\n",
    "print(\"Word Count:\", len(words))\n",
    "print(\"Longest Word:\", max(words, key=len))\n",
    "print(\"All uppercase:\", [word.upper() for word in words])\n",
    "print(\"Words in reverse:\", list(reversed(words)))"
   ]
  },
  {
   "cell_type": "code",
   "execution_count": 59,
   "id": "e7a09f2b-98db-421b-a9a9-d9d928c35085",
   "metadata": {},
   "outputs": [
    {
     "name": "stdin",
     "output_type": "stream",
     "text": [
      " 10\n",
      " 2\n"
     ]
    },
    {
     "name": "stdout",
     "output_type": "stream",
     "text": [
      "Sum: 12\n",
      "Difference: 8\n",
      "Product: 20\n",
      "Quotient: 5.0\n",
      "Power: 100\n"
     ]
    }
   ],
   "source": [
    "def calculate(a, b):\n",
    "    print(\"Sum:\", a + b)\n",
    "    print(\"Difference:\", a - b)\n",
    "    print(\"Product:\", a * b)\n",
    "    print(\"Quotient:\", round(a / b, 2))\n",
    "    print(\"Power:\", pow(a, b))\n",
    "\n",
    "x = int(input())\n",
    "y = int(input())\n",
    "calculate(x, y)"
   ]
  },
  {
   "cell_type": "code",
   "execution_count": null,
   "id": "55738d07-9b1d-4db0-b67c-211a8bb40df2",
   "metadata": {},
   "outputs": [],
   "source": []
  }
 ],
 "metadata": {
  "kernelspec": {
   "display_name": "Python [conda env:base] *",
   "language": "python",
   "name": "conda-base-py"
  },
  "language_info": {
   "codemirror_mode": {
    "name": "ipython",
    "version": 3
   },
   "file_extension": ".py",
   "mimetype": "text/x-python",
   "name": "python",
   "nbconvert_exporter": "python",
   "pygments_lexer": "ipython3",
   "version": "3.13.5"
  }
 },
 "nbformat": 4,
 "nbformat_minor": 5
}
