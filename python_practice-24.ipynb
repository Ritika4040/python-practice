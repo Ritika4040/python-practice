{
 "cells": [
  {
   "cell_type": "markdown",
   "id": "46503307-4de1-4030-9c0e-18e036f848ab",
   "metadata": {},
   "source": [
    "Special methods allow us to use some built-in operations in Python, such as the length function or the print function, with our own user-created objects. "
   ]
  },
  {
   "cell_type": "code",
   "execution_count": 2,
   "id": "20abdd2e-d37a-4259-9986-9630c214b32f",
   "metadata": {},
   "outputs": [
    {
     "name": "stdout",
     "output_type": "stream",
     "text": [
      "3\n"
     ]
    }
   ],
   "source": [
    "my_list = [1, 2, 3]\n",
    "print(len(my_list))"
   ]
  },
  {
   "cell_type": "markdown",
   "id": "3a1a88bb-c24c-4825-b6ee-7a746f3b09fe",
   "metadata": {},
   "source": [
    "Defining a Book Class with __init__\n",
    "Let's create a Book class with attributes for title, author, and pages. The __init__ method is a special method that is automatically called when an object is created, initializing its attributes."
   ]
  },
  {
   "cell_type": "code",
   "execution_count": 7,
   "id": "942a4f29-68e6-4839-9c31-2b750ddbb658",
   "metadata": {},
   "outputs": [],
   "source": [
    "class Book:\n",
    "    def __init__(self, title, author, pages):\n",
    "        self.title = title\n",
    "        self.author = author\n",
    "        self.pages = pages"
   ]
  },
  {
   "cell_type": "code",
   "execution_count": 9,
   "id": "5344f474-abc7-4ff9-a41d-26af93110aa6",
   "metadata": {},
   "outputs": [],
   "source": [
    "class Book:\n",
    "    def __init__(self, title, author, pages):\n",
    "        self.title = title\n",
    "        self.author = author\n",
    "        self.pages = pages\n",
    "    \n",
    "    def __str__(self):\n",
    "        return f\"{self.title} by {self.author}\""
   ]
  },
  {
   "cell_type": "code",
   "execution_count": 11,
   "id": "47666f5f-71dd-4e7d-893c-b197b86670fe",
   "metadata": {},
   "outputs": [
    {
     "name": "stdout",
     "output_type": "stream",
     "text": [
      "Python Rocks by Jose\n"
     ]
    }
   ],
   "source": [
    "b = Book(\"Python Rocks\", \"Jose\", 200)\n",
    "print(b)"
   ]
  },
  {
   "cell_type": "code",
   "execution_count": 14,
   "id": "5d141def-d87a-4ec5-85b1-c49a24e57e44",
   "metadata": {},
   "outputs": [],
   "source": [
    "class Book:\n",
    "    def __init__(self, title, author, pages):\n",
    "        self.title = title\n",
    "        self.author = author\n",
    "        self.pages = pages\n",
    "    \n",
    "    def __str__(self):\n",
    "        return f\"{self.title} by {self.author}\"\n",
    "    \n",
    "    def __len__(self):\n",
    "        return self.pages"
   ]
  },
  {
   "cell_type": "code",
   "execution_count": 16,
   "id": "48990153-0d61-4596-b688-5a0d5bf67271",
   "metadata": {},
   "outputs": [
    {
     "name": "stdout",
     "output_type": "stream",
     "text": [
      "200\n"
     ]
    }
   ],
   "source": [
    "b = Book(\"Python Rocks\", \"Jose\", 200)\n",
    "print(len(b))"
   ]
  },
  {
   "cell_type": "code",
   "execution_count": 18,
   "id": "7c1f12f6-c25a-4ca9-92a4-0736621df22f",
   "metadata": {},
   "outputs": [],
   "source": [
    "class Book:\n",
    "    def __init__(self, title, author, pages):\n",
    "        self.title = title\n",
    "        self.author = author\n",
    "        self.pages = pages\n",
    "    \n",
    "    def __str__(self):\n",
    "        return f\"{self.title} by {self.author}\"\n",
    "    \n",
    "    def __len__(self):\n",
    "        return self.pages\n",
    "    \n",
    "    def __del__(self):\n",
    "        print(\"A book object has been deleted\")"
   ]
  },
  {
   "cell_type": "code",
   "execution_count": 21,
   "id": "be49a2d4-0edb-4b3d-b563-14df45ce4d13",
   "metadata": {},
   "outputs": [
    {
     "name": "stdout",
     "output_type": "stream",
     "text": [
      "Python Rocks by Jose\n",
      "A book object has been deleted\n"
     ]
    }
   ],
   "source": [
    "b = Book(\"Python Rocks\", \"Jose\", 200)\n",
    "print(b)\n",
    "del b"
   ]
  },
  {
   "cell_type": "raw",
   "id": "41a15df2-eb35-4b35-81b4-04ffcade07d6",
   "metadata": {},
   "source": [
    "The __init__ method initializes new objects.\n",
    "The __str__ method defines the string representation used by print().\n",
    "The __len__ method allows len() to return a meaningful value.\n",
    "The __del__ method can execute custom code when an object is deleted."
   ]
  },
  {
   "cell_type": "raw",
   "id": "5aaa9b83-0ea9-40ab-b75b-2ecdb6b4e81c",
   "metadata": {},
   "source": [
    "Special methods, also known as magic or dunder methods, enable built-in Python functions to work with user-defined objects.\n",
    "The __init__ method initializes new objects automatically when they are created.\n",
    "The __str__ method defines the string representation of an object, which is used by the print() function.\n",
    "The __len__ method allows the len() function to return a meaningful length for custom objects.\n",
    "The __del__ method can be customized to execute specific actions when an object is deleted."
   ]
  }
 ],
 "metadata": {
  "kernelspec": {
   "display_name": "Python [conda env:base] *",
   "language": "python",
   "name": "conda-base-py"
  },
  "language_info": {
   "codemirror_mode": {
    "name": "ipython",
    "version": 3
   },
   "file_extension": ".py",
   "mimetype": "text/x-python",
   "name": "python",
   "nbconvert_exporter": "python",
   "pygments_lexer": "ipython3",
   "version": "3.13.5"
  }
 },
 "nbformat": 4,
 "nbformat_minor": 5
}
