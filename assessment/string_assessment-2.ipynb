{
 "cells": [
  {
   "cell_type": "markdown",
   "id": "84b3985f-968a-4825-97cc-91f8ffe50159",
   "metadata": {},
   "source": [
    "Problem 1: Reverse the String\n",
    "Write a function that takes a string and returns it reversed.\n",
    "\n",
    "Example:\n",
    "\n",
    "Input: \"hello\"\n",
    "\n",
    "Output: \"olleh\""
   ]
  },
  {
   "cell_type": "code",
   "execution_count": 3,
   "id": "de11ccc6-7abe-4c50-8480-ab14fd105cec",
   "metadata": {},
   "outputs": [
    {
     "name": "stdout",
     "output_type": "stream",
     "text": [
      "olleh\n"
     ]
    }
   ],
   "source": [
    "n='hello'\n",
    "cmd=n[::-1]\n",
    "print(cmd)"
   ]
  },
  {
   "cell_type": "markdown",
   "id": "a8a900a9-0b00-45cf-bebe-69f35f74fe84",
   "metadata": {},
   "source": [
    "Problem 2: Is Palindrome\n",
    "Check whether a given string is a palindrome (reads the same forward and backward).\n",
    "\n",
    "Example:\n",
    "\n",
    "Input: \"racecar\"\n",
    "Output: True"
   ]
  },
  {
   "cell_type": "code",
   "execution_count": 6,
   "id": "410b38ec-ca45-43e5-a1f0-adf8d7b5b35f",
   "metadata": {},
   "outputs": [
    {
     "name": "stdout",
     "output_type": "stream",
     "text": [
      "True\n"
     ]
    }
   ],
   "source": [
    "n='racecar'\n",
    "if n==n[::-1]:\n",
    "    print(\"True\")\n",
    "else:\n",
    "    print('False')"
   ]
  },
  {
   "cell_type": "markdown",
   "id": "1f2afd9e-bae5-4da6-bbe1-04790653bd49",
   "metadata": {},
   "source": [
    "Problem 3: Count Vowels and Consonants\n",
    "Return the number of vowels and consonants in a string.\n",
    "\n",
    "Example:\n",
    "\n",
    "Input: \"Python\"\n",
    "Output: (1, 5)\n",
    "Vowels: 1, Consonants: 5"
   ]
  },
  {
   "cell_type": "code",
   "execution_count": 23,
   "id": "facb2fb5-65e2-406e-92cb-afe091f81ed9",
   "metadata": {},
   "outputs": [
    {
     "name": "stdout",
     "output_type": "stream",
     "text": [
      "(1,5)\n"
     ]
    }
   ],
   "source": [
    "n='Python'\n",
    "vowel='AEIOUaeiou'\n",
    "count_v=0\n",
    "count_c=0\n",
    "for i in range(len(n)):\n",
    "    if n[i][0] in vowel:\n",
    "            count_v += 1\n",
    "    else:\n",
    "        count_c += 1\n",
    "result=(f\"({count_v},{count_c})\")\n",
    "print(result)\n",
    "    \n",
    "    "
   ]
  },
  {
   "cell_type": "markdown",
   "id": "eefef450-a631-444e-8760-7cb93eab486a",
   "metadata": {},
   "source": [
    "Problem 4: Remove Duplicate Characters.\n",
    "Remove all duplicate characters from a string, preserving the first occurrence.\n",
    "\n",
    "Example:\n",
    "\n",
    "Input: \"aabbcc\"\n",
    "\n",
    "Output: \"abc\""
   ]
  },
  {
   "cell_type": "code",
   "execution_count": 41,
   "id": "2c37f51e-273d-4618-98f2-7c44485a6a94",
   "metadata": {},
   "outputs": [
    {
     "name": "stdout",
     "output_type": "stream",
     "text": [
      "abc\n"
     ]
    }
   ],
   "source": [
    "n='aabbcc'\n",
    "result=''\n",
    "for i in n:\n",
    "    if i not in result:\n",
    "        result += i\n",
    "print(result)"
   ]
  },
  {
   "cell_type": "markdown",
   "id": "762d0e0a-15ec-4a6f-ba32-06a3c14e050e",
   "metadata": {},
   "source": [
    "Problem 5: Capitalize Words.\n",
    "Capitalize the first letter of every word in a string.\n",
    "Example:\n",
    "\n",
    "Input: \"hello world\"\n",
    "\n",
    "Output: \"Hello World\""
   ]
  },
  {
   "cell_type": "code",
   "execution_count": 52,
   "id": "2280e375-1453-4eff-a06f-78a870e7b43f",
   "metadata": {},
   "outputs": [
    {
     "name": "stdout",
     "output_type": "stream",
     "text": [
      "Hello World\n"
     ]
    }
   ],
   "source": [
    "n='hello world'\n",
    "cmd=n[0].upper()+n[1:6]+n[6].upper()+n[7:]\n",
    "print(cmd)"
   ]
  },
  {
   "cell_type": "markdown",
   "id": "e8a46ea4-95fd-4e01-b7a6-62e5eea44411",
   "metadata": {},
   "source": [
    "Problem 6: Most Frequent Character.\n",
    "Return the character that appears most frequently in the string. If there is a tie, return any one.\n",
    "Example:\n",
    "\n",
    "Input: \"banana\"\n",
    "\n",
    "Output: \"a\""
   ]
  },
  {
   "cell_type": "code",
   "execution_count": 4,
   "id": "f751baae-30de-4802-bcd6-fa33294eb5b1",
   "metadata": {},
   "outputs": [
    {
     "name": "stdout",
     "output_type": "stream",
     "text": [
      "a\n"
     ]
    }
   ],
   "source": [
    "n='banana'\n",
    "max_count=0\n",
    "most_n=''\n",
    "for i in n:\n",
    "    count=0\n",
    "    for c in n:\n",
    "        if c== i:\n",
    "            count+=1\n",
    "        if count > max_count:\n",
    "            max_count=count\n",
    "            most_n=i\n",
    "print(most_n)"
   ]
  },
  {
   "cell_type": "markdown",
   "id": "b17a466d-3650-4ff0-a782-b2cd74b304de",
   "metadata": {},
   "source": [
    "Problem 7: Are Anagrams\n",
    "Check if two strings are anagrams of each other (contain the same characters in any order).\n",
    "Example:\n",
    "\n",
    "Input: \"listen\", \"silent\"\n",
    "\n",
    "Output: True"
   ]
  },
  {
   "cell_type": "code",
   "execution_count": 78,
   "id": "b1158653-d50c-44db-91ab-ee75d2b06d69",
   "metadata": {},
   "outputs": [
    {
     "name": "stdin",
     "output_type": "stream",
     "text": [
      " listen,silent\n"
     ]
    },
    {
     "name": "stdout",
     "output_type": "stream",
     "text": [
      "True\n"
     ]
    }
   ],
   "source": [
    "s=input()\n",
    "cmd=s.split(',')\n",
    "if sorted(cmd[0]) == sorted(cmd[1]):\n",
    "    print('True')"
   ]
  },
  {
   "cell_type": "markdown",
   "id": "0b8fbd07-4004-410e-ad58-d469f89c1dc6",
   "metadata": {},
   "source": [
    "Problem 8: Replace Spaces with Underscores\n",
    "Replace every space in a string with an underscore _.\n",
    "\n",
    "Example:\n",
    "\n",
    "Input: \"this is a test\"\n",
    "Output: \"this_is_a_test\""
   ]
  },
  {
   "cell_type": "code",
   "execution_count": 3,
   "id": "e3779e1e-f131-41b8-b400-9ba6665bf4b9",
   "metadata": {},
   "outputs": [
    {
     "name": "stdin",
     "output_type": "stream",
     "text": [
      " this is a test\n"
     ]
    },
    {
     "name": "stdout",
     "output_type": "stream",
     "text": [
      "this_is_a_test\n"
     ]
    }
   ],
   "source": [
    "n=input()\n",
    "cmd=n.replace(\" \",\"_\")\n",
    "print(cmd)"
   ]
  },
  {
   "cell_type": "markdown",
   "id": "6e4f6c98-17dd-49ef-9ba3-7765cc7d6c31",
   "metadata": {},
   "source": [
    "Problem 9: Character Frequency Dictionary\n",
    "Return a dictionary showing how many times each character appears in the string.\n",
    "Example:\n",
    "\n",
    "Input: \"hello\"\n",
    "\n",
    "Output: {'h': 1, 'e': 1, 'l': 2, 'o': 1}"
   ]
  },
  {
   "cell_type": "code",
   "execution_count": 12,
   "id": "d6f4a328-2c5e-4b4c-855b-3991e8200087",
   "metadata": {},
   "outputs": [
    {
     "name": "stdin",
     "output_type": "stream",
     "text": [
      " hello\n"
     ]
    },
    {
     "name": "stdout",
     "output_type": "stream",
     "text": [
      "{'h': 1, 'e': 1, 'l': 2, 'o': 1}\n"
     ]
    }
   ],
   "source": [
    "n=input()\n",
    "count={}\n",
    "for text in n:\n",
    "    if text in count:\n",
    "        count[text] += 1\n",
    "    else:\n",
    "        count[text]=1\n",
    "print(count)"
   ]
  },
  {
   "cell_type": "markdown",
   "id": "664da48d-f826-40e3-a79d-187441e7b7ef",
   "metadata": {},
   "source": [
    "Problem 10: Extract Digits\n",
    "Extract and return all the digits from a string, preserving their order.\n",
    "\n",
    "Example:\n",
    "\n",
    "Input: \"abc123xyz456\"\n",
    "\n",
    "Output: \"123456\""
   ]
  },
  {
   "cell_type": "code",
   "execution_count": 18,
   "id": "d6d622c2-a612-4926-b0af-49515926b65c",
   "metadata": {},
   "outputs": [
    {
     "name": "stdin",
     "output_type": "stream",
     "text": [
      " abc123xyz456\n"
     ]
    },
    {
     "name": "stdout",
     "output_type": "stream",
     "text": [
      "123456\n"
     ]
    }
   ],
   "source": [
    "t=input()\n",
    "digit = \"\"\n",
    "\n",
    "for i in t:\n",
    "    if i.isdigit():\n",
    "        digit += i\n",
    "\n",
    "print(digit)"
   ]
  },
  {
   "cell_type": "code",
   "execution_count": null,
   "id": "0758a9e5-1224-4f65-bc0c-0bddf67c59cc",
   "metadata": {},
   "outputs": [],
   "source": []
  }
 ],
 "metadata": {
  "kernelspec": {
   "display_name": "Python [conda env:base] *",
   "language": "python",
   "name": "conda-base-py"
  },
  "language_info": {
   "codemirror_mode": {
    "name": "ipython",
    "version": 3
   },
   "file_extension": ".py",
   "mimetype": "text/x-python",
   "name": "python",
   "nbconvert_exporter": "python",
   "pygments_lexer": "ipython3",
   "version": "3.13.5"
  }
 },
 "nbformat": 4,
 "nbformat_minor": 5
}
