{
 "cells": [
  {
   "cell_type": "markdown",
   "id": "e8b62863-833b-4b95-b5da-04ecb081e9bd",
   "metadata": {},
   "source": [
    "Easy\n",
    "\n",
    "Filtering Even Numbers:\n",
    "Prompt the user to enter a list of numbers separated by commas.\n",
    "Split the input string into a list of individual numbers.\n",
    "Iterate through the list and print only the even numbers.\n",
    "Example Input: 1,2,3,4,5,6\n",
    "Expected Output: 2, 4, 6"
   ]
  },
  {
   "cell_type": "code",
   "execution_count": 49,
   "id": "4f076b0f-6eb0-4b7d-9a5b-045bd33dbfd7",
   "metadata": {},
   "outputs": [
    {
     "name": "stdin",
     "output_type": "stream",
     "text": [
      " 1,2,3,4,5,6\n"
     ]
    },
    {
     "name": "stdout",
     "output_type": "stream",
     "text": [
      "2\n",
      "4\n",
      "6\n"
     ]
    }
   ],
   "source": [
    "n=input()\n",
    "cmd=n.split(',')\n",
    "for i in cmd:\n",
    "    num=[]\n",
    "    num=int(i)\n",
    "    if num%2 == 0:\n",
    "        print(num)"
   ]
  },
  {
   "cell_type": "markdown",
   "id": "c7bf4bc5-e341-444c-82b5-78a73b8c04c6",
   "metadata": {},
   "source": [
    "Counting Vowels:\n",
    "Prompt the user to enter a sentence.\n",
    "Count how many vowels (a, e, i, o, u) are present in the sentence, ignoring case.\n",
    "Print the total vowel count.\n",
    "Example Input: \"Hello World\"\n",
    "Expected Output: 3"
   ]
  },
  {
   "cell_type": "code",
   "execution_count": 127,
   "id": "deb65a79-68db-4faa-a7ea-9f5869139aa9",
   "metadata": {},
   "outputs": [
    {
     "name": "stdin",
     "output_type": "stream",
     "text": [
      " HEllo World\n"
     ]
    },
    {
     "name": "stdout",
     "output_type": "stream",
     "text": [
      "3\n"
     ]
    }
   ],
   "source": [
    "n=input()\n",
    "v= 0\n",
    "for i in n:\n",
    "    if i in 'aeiouAEIOU':\n",
    "        v+= 1 \n",
    "print(v)"
   ]
  },
  {
   "cell_type": "markdown",
   "id": "9f06110e-0b4c-4a0b-b5ff-558c9fe88ee5",
   "metadata": {},
   "source": [
    "Finding the Largest Number in a List:\n",
    "Prompt the user to enter a list of numbers separated by spaces.\n",
    "Find and print the largest number in the list.\n",
    "Example Input: 10 5 20 15\n",
    "Expected Output: 20 \n"
   ]
  },
  {
   "cell_type": "code",
   "execution_count": 51,
   "id": "a32060a9-bd4b-414f-929e-843f8b0f8994",
   "metadata": {},
   "outputs": [
    {
     "name": "stdin",
     "output_type": "stream",
     "text": [
      " 10 5 20 15\n"
     ]
    },
    {
     "name": "stdout",
     "output_type": "stream",
     "text": [
      "20\n"
     ]
    }
   ],
   "source": [
    "n=input()\n",
    "cmd=n.split()\n",
    "l = int(cmd[0])\n",
    "for i in cmd:\n",
    "    num=int(i)\n",
    "    if num> l:\n",
    "        l = num\n",
    "\n",
    "print(l)"
   ]
  },
  {
   "cell_type": "markdown",
   "id": "170bd66f-3101-4023-bcf6-2def9a814cd5",
   "metadata": {},
   "source": [
    "Medium\n",
    "\n",
    "Word Filtering by Length:\n",
    "Prompt the user to enter a sentence.\n",
    "Split the sentence into a list of words.\n",
    "Iterate through the list of words and print only the words that have a length greater than a user-specified threshold (e.g., words longer than 5 characters).\n",
    "Example Input:\n",
    "Sentence: \"This is a sample sentence for word filtering\"\n",
    "Length threshold: 4\n",
    "Expected Output:\n",
    "This\n",
    "sample\n",
    "sentence\n",
    "filtering"
   ]
  },
  {
   "cell_type": "code",
   "execution_count": 140,
   "id": "c7771e99-6de8-426c-8f68-be1bf606022c",
   "metadata": {},
   "outputs": [
    {
     "name": "stdin",
     "output_type": "stream",
     "text": [
      " This is a sample sentence for word filtering\n",
      " 4\n"
     ]
    },
    {
     "name": "stdout",
     "output_type": "stream",
     "text": [
      "sample\n",
      "sentence\n",
      "filtering\n"
     ]
    }
   ],
   "source": [
    "s=input()\n",
    "cmd=s.split()\n",
    "t=int(input())\n",
    "for i in cmd:\n",
    "     if len(i)>t:\n",
    "        print(i)"
   ]
  },
  {
   "cell_type": "markdown",
   "id": "3cc9a3ab-6a1c-444d-be94-bcb90bf9c24f",
   "metadata": {},
   "source": [
    "Removing Duplicates from a List:\n",
    "Prompt the user to enter a list of numbers separated by commas.\n",
    "Remove any duplicate numbers from the list and print the new list.\n",
    "Example Input: 1,2,2,3,4,4,5\n",
    "Expected Output: [1, 2, 3, 4, 5]"
   ]
  },
  {
   "cell_type": "code",
   "execution_count": 76,
   "id": "2130c1f3-ed88-478a-9602-027c83646130",
   "metadata": {},
   "outputs": [
    {
     "name": "stdin",
     "output_type": "stream",
     "text": [
      " 1,2,2,3,4,4,5\n"
     ]
    },
    {
     "name": "stdout",
     "output_type": "stream",
     "text": [
      "[1, 2, 3, 4, 5]\n"
     ]
    }
   ],
   "source": [
    "n=input()\n",
    "cmd=n.split(',')\n",
    "mylist=[]\n",
    "for n in cmd:\n",
    "    num = int(n) \n",
    "    if num not in mylist:\n",
    "        mylist.append(num)\n",
    "print(mylist)\n"
   ]
  },
  {
   "cell_type": "markdown",
   "id": "967a6e86-36ce-4530-be99-bb69210f0c99",
   "metadata": {},
   "source": [
    "Palindrome Checker:\n",
    "Prompt the user to enter a word.\n",
    "Check if the word is a palindrome (reads the same forwards and backward).\n",
    "Print whether the word is a palindrome or not.\n",
    "Example Input: madam\n",
    "Expected Output: The string is a palindrome\n",
    "Example Input: hello\n",
    "Expected Output: The string is not a palindrome "
   ]
  },
  {
   "cell_type": "code",
   "execution_count": 84,
   "id": "149b0ce7-5960-41be-b60e-c6cae3d8927b",
   "metadata": {},
   "outputs": [
    {
     "name": "stdin",
     "output_type": "stream",
     "text": [
      " madam\n"
     ]
    },
    {
     "name": "stdout",
     "output_type": "stream",
     "text": [
      "The string is a palindrome\n"
     ]
    }
   ],
   "source": [
    "s=input()\n",
    "word=s[::-1]\n",
    "if s==word:\n",
    "    print('The string is a palindrome')\n",
    "else:\n",
    "    print('The string is not a palindrome')"
   ]
  },
  {
   "cell_type": "markdown",
   "id": "f2aec519-1716-4a54-8bbd-ebf7b2ee5134",
   "metadata": {},
   "source": [
    "Grade Calculator:\n",
    "Prompt the user to enter a student's numerical grades for multiple subjects, separated by commas (e.g., 85, 92, 78, 95).\n",
    "Calculate the average grade.\n",
    "Use if/elif/else statements to assign a letter grade (A, B, C, D, F) based on the average grade (e.g., 90-100 is A, 80-89 is B, etc.).\n",
    "Print the average grade and the corresponding letter grade.\n",
    "Example Input: 85, 92, 78, 95\n",
    "Expected Output:\n",
    "Average Grade: 87.5\n",
    "Letter Grade: B"
   ]
  },
  {
   "cell_type": "code",
   "execution_count": 141,
   "id": "73e15656-2ba4-4cf4-b48c-498364675867",
   "metadata": {},
   "outputs": [
    {
     "name": "stdin",
     "output_type": "stream",
     "text": [
      " 85,92,78,95\n"
     ]
    },
    {
     "name": "stdout",
     "output_type": "stream",
     "text": [
      "Average Grade 87.5\n",
      "Letter Grade B\n"
     ]
    }
   ],
   "source": [
    "marks=input()\n",
    "cmd=marks.split(',')\n",
    "total=0\n",
    "num=0\n",
    "for i in cmd:\n",
    "    total+=int(i)\n",
    "    num+=1\n",
    "ave=total/num\n",
    "if ave >= 90:\n",
    "    g='A'\n",
    "elif ave >=80:\n",
    "    g='B'\n",
    "elif ave >=70:\n",
    "    g='C'\n",
    "elif ave >=60:\n",
    "    g='D'\n",
    "elif ave >=50:\n",
    "    g='E'\n",
    "else:\n",
    "    g='F'\n",
    "print('Average Grade',ave)\n",
    "print('Letter Grade',g)"
   ]
  },
  {
   "cell_type": "code",
   "execution_count": null,
   "id": "f79bdd61-d81f-45b1-8da6-12c7788caa04",
   "metadata": {},
   "outputs": [],
   "source": []
  }
 ],
 "metadata": {
  "kernelspec": {
   "display_name": "Python [conda env:base] *",
   "language": "python",
   "name": "conda-base-py"
  },
  "language_info": {
   "codemirror_mode": {
    "name": "ipython",
    "version": 3
   },
   "file_extension": ".py",
   "mimetype": "text/x-python",
   "name": "python",
   "nbconvert_exporter": "python",
   "pygments_lexer": "ipython3",
   "version": "3.13.5"
  }
 },
 "nbformat": 4,
 "nbformat_minor": 5
}
