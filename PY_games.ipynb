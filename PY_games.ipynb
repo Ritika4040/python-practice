{
 "cells": [
  {
   "cell_type": "markdown",
   "id": "18ea185a-11ea-4ca3-994b-3f3d0f9a73e3",
   "metadata": {},
   "source": [
    "simple calculator"
   ]
  },
  {
   "cell_type": "code",
   "execution_count": 31,
   "id": "727d7f96-4dfd-4e86-b387-ed54f2a9890c",
   "metadata": {},
   "outputs": [
    {
     "name": "stdin",
     "output_type": "stream",
     "text": [
      "Enter first number:  40\n",
      "Enter operator (+, -, *, /):  *\n",
      "Enter second number:  20\n"
     ]
    },
    {
     "name": "stdout",
     "output_type": "stream",
     "text": [
      "Result: 800.0\n"
     ]
    }
   ],
   "source": [
    "def calculate(num1, operator, num2):\n",
    "    if operator == \"+\":\n",
    "        return num1 + num2\n",
    "    elif operator == \"-\":\n",
    "        return num1 - num2\n",
    "    elif operator == \"*\":\n",
    "        return num1 * num2\n",
    "    elif operator == \"/\":\n",
    "        if num2 != 0:\n",
    "            return num1 / num2\n",
    "        else:\n",
    "            return \"Error: Cannot divide by zero.\"\n",
    "    else:\n",
    "        return \"Invalid operator.\"\n",
    "\n",
    "\n",
    "n1 = float(input(\"Enter first number: \"))\n",
    "op = input(\"Enter operator (+, -, *, /): \")\n",
    "n2 = float(input(\"Enter second number: \"))\n",
    "\n",
    "\n",
    "r = calculate(n1, op, n2)\n",
    "\n",
    "print(\"Result:\", r)"
   ]
  },
  {
   "cell_type": "markdown",
   "id": "f14a34b5-a345-4ca6-ab41-79b9956db2ea",
   "metadata": {},
   "source": [
    "guess game\n"
   ]
  },
  {
   "cell_type": "code",
   "execution_count": 48,
   "id": "0a6997ac-ad81-4e88-970e-47c4d9b8e3b8",
   "metadata": {},
   "outputs": [
    {
     "name": "stdout",
     "output_type": "stream",
     "text": [
      "Guess a number between 1 and 100\n"
     ]
    },
    {
     "name": "stdin",
     "output_type": "stream",
     "text": [
      "Your guess:  40\n"
     ]
    },
    {
     "name": "stdout",
     "output_type": "stream",
     "text": [
      "Too low!\n"
     ]
    },
    {
     "name": "stdin",
     "output_type": "stream",
     "text": [
      "Your guess:  80\n"
     ]
    },
    {
     "name": "stdout",
     "output_type": "stream",
     "text": [
      "Too high!\n"
     ]
    },
    {
     "name": "stdin",
     "output_type": "stream",
     "text": [
      "Your guess:  60\n"
     ]
    },
    {
     "name": "stdout",
     "output_type": "stream",
     "text": [
      "Too high!\n"
     ]
    },
    {
     "name": "stdin",
     "output_type": "stream",
     "text": [
      "Your guess:  50\n"
     ]
    },
    {
     "name": "stdout",
     "output_type": "stream",
     "text": [
      "Too low!\n"
     ]
    },
    {
     "name": "stdin",
     "output_type": "stream",
     "text": [
      "Your guess:  55\n"
     ]
    },
    {
     "name": "stdout",
     "output_type": "stream",
     "text": [
      "Too high!\n"
     ]
    },
    {
     "name": "stdin",
     "output_type": "stream",
     "text": [
      "Your guess:  52\n"
     ]
    },
    {
     "name": "stdout",
     "output_type": "stream",
     "text": [
      "Correct! You guessed it in 6 tries.\n"
     ]
    }
   ],
   "source": [
    "import random\n",
    "\n",
    "def guess_number():\n",
    "    num = random.randint(1, 100)\n",
    "    tries = 0\n",
    "    print(\"Guess a number between 1 and 100\")\n",
    "\n",
    "    while True:\n",
    "        guess = int(input(\"Your guess: \"))\n",
    "        tries += 1\n",
    "        if guess < num:\n",
    "            print(\"Too low!\")\n",
    "        elif guess > num:\n",
    "            \n",
    "            print(\"Too high!\")\n",
    "        else:\n",
    "            print(f\"Correct! You guessed it in {tries} tries.\")\n",
    "            break\n",
    "\n",
    "guess_number()"
   ]
  },
  {
   "cell_type": "markdown",
   "id": "2e98b7ff-15ae-4612-bf2c-8a35a311bb22",
   "metadata": {},
   "source": [
    "ROCK PAPER SCISSORS"
   ]
  },
  {
   "cell_type": "code",
   "execution_count": 58,
   "id": "56d5af14-d499-400a-b41f-d09e859cc266",
   "metadata": {},
   "outputs": [
    {
     "name": "stdin",
     "output_type": "stream",
     "text": [
      "Choose rock, paper, or scissors:  rock\n"
     ]
    },
    {
     "name": "stdout",
     "output_type": "stream",
     "text": [
      "Computer chose: scissors\n",
      "You win!\n"
     ]
    }
   ],
   "source": [
    "import random\n",
    "\n",
    "def rock_paper_scissors():\n",
    "    opt = [\"rock\", \"paper\", \"scissors\"]\n",
    "    user = input(\"Choose rock, paper, or scissors: \").lower()\n",
    "    com = random.choice(opt)\n",
    "    print(\"Computer chose:\", com)\n",
    "\n",
    "    if user == com:\n",
    "        print(\"It's a tie!\")\n",
    "    elif (user == \"rock\" and com == \"scissors\") or \\\n",
    "         (user == \"paper\" and com == \"rock\") or \\\n",
    "         (user == \"scissors\" and com == \"paper\"):\n",
    "        print(\"You win!\")\n",
    "    else:\n",
    "        print(\"You lose!\")\n",
    "\n",
    "rock_paper_scissors()"
   ]
  },
  {
   "cell_type": "code",
   "execution_count": null,
   "id": "c67401bd-7a74-422f-9156-060c0b4a6249",
   "metadata": {},
   "outputs": [],
   "source": []
  }
 ],
 "metadata": {
  "kernelspec": {
   "display_name": "Python [conda env:base] *",
   "language": "python",
   "name": "conda-base-py"
  },
  "language_info": {
   "codemirror_mode": {
    "name": "ipython",
    "version": 3
   },
   "file_extension": ".py",
   "mimetype": "text/x-python",
   "name": "python",
   "nbconvert_exporter": "python",
   "pygments_lexer": "ipython3",
   "version": "3.13.5"
  }
 },
 "nbformat": 4,
 "nbformat_minor": 5
}
