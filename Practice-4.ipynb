{
 "cells": [
  {
   "cell_type": "markdown",
   "id": "24b0e32d-a1eb-44e8-b9a9-0bf7a7684621",
   "metadata": {},
   "source": [
    " Indexing and Slicing with Strings"
   ]
  },
  {
   "cell_type": "code",
   "execution_count": 3,
   "id": "cea5823c-7233-4dc8-979b-2867f2e81edf",
   "metadata": {},
   "outputs": [
    {
     "data": {
      "text/plain": [
       "'Hello World'"
      ]
     },
     "execution_count": 3,
     "metadata": {},
     "output_type": "execute_result"
    }
   ],
   "source": [
    "mystring =\"Hello World\"\n",
    "mystring"
   ]
  },
  {
   "cell_type": "code",
   "execution_count": 4,
   "id": "fe7e76ab-32ec-4b0f-8f84-c421c3593686",
   "metadata": {},
   "outputs": [
    {
     "data": {
      "text/plain": [
       "'H'"
      ]
     },
     "execution_count": 4,
     "metadata": {},
     "output_type": "execute_result"
    }
   ],
   "source": [
    "mystring[0]"
   ]
  },
  {
   "cell_type": "code",
   "execution_count": 8,
   "id": "1ccac026-615c-4a2e-987a-8e1c6ae30b64",
   "metadata": {},
   "outputs": [
    {
     "data": {
      "text/plain": [
       "'o'"
      ]
     },
     "execution_count": 8,
     "metadata": {},
     "output_type": "execute_result"
    }
   ],
   "source": [
    "mystring[4]"
   ]
  },
  {
   "cell_type": "code",
   "execution_count": 9,
   "id": "b8c9c879-df31-4417-a2fe-a820a4554f28",
   "metadata": {},
   "outputs": [
    {
     "data": {
      "text/plain": [
       "'l'"
      ]
     },
     "execution_count": 9,
     "metadata": {},
     "output_type": "execute_result"
    }
   ],
   "source": [
    "mystring[-2]"
   ]
  },
  {
   "cell_type": "code",
   "execution_count": 10,
   "id": "10c95a29-73d7-4da7-9923-b3176c0a72b0",
   "metadata": {},
   "outputs": [],
   "source": [
    "mystring = \"abcdefgh\""
   ]
  },
  {
   "cell_type": "code",
   "execution_count": 11,
   "id": "fea0f037-c37f-4af6-977a-047d071fa068",
   "metadata": {},
   "outputs": [
    {
     "data": {
      "text/plain": [
       "'abcdefgh'"
      ]
     },
     "execution_count": 11,
     "metadata": {},
     "output_type": "execute_result"
    }
   ],
   "source": [
    "mystring"
   ]
  },
  {
   "cell_type": "code",
   "execution_count": 12,
   "id": "892b7bce-85f1-4c5b-bc88-b299e85ea988",
   "metadata": {},
   "outputs": [
    {
     "data": {
      "text/plain": [
       "'cdefgh'"
      ]
     },
     "execution_count": 12,
     "metadata": {},
     "output_type": "execute_result"
    }
   ],
   "source": [
    "mystring[2:]"
   ]
  },
  {
   "cell_type": "code",
   "execution_count": 13,
   "id": "9009a8f1-2ce9-45f4-b3d8-e7ac8abfbfaf",
   "metadata": {},
   "outputs": [
    {
     "data": {
      "text/plain": [
       "'abc'"
      ]
     },
     "execution_count": 13,
     "metadata": {},
     "output_type": "execute_result"
    }
   ],
   "source": [
    "mystring[:3]"
   ]
  },
  {
   "cell_type": "code",
   "execution_count": 14,
   "id": "3ef3cc56-fe1d-4fc0-8176-61a6800e62c6",
   "metadata": {},
   "outputs": [
    {
     "data": {
      "text/plain": [
       "'efgh'"
      ]
     },
     "execution_count": 14,
     "metadata": {},
     "output_type": "execute_result"
    }
   ],
   "source": [
    "mystring[4:8]"
   ]
  },
  {
   "cell_type": "code",
   "execution_count": 15,
   "id": "1a96bf75-ef39-4a46-931e-b33ea78191fd",
   "metadata": {},
   "outputs": [
    {
     "data": {
      "text/plain": [
       "'cde'"
      ]
     },
     "execution_count": 15,
     "metadata": {},
     "output_type": "execute_result"
    }
   ],
   "source": [
    "mystring[2:5]"
   ]
  },
  {
   "cell_type": "code",
   "execution_count": 16,
   "id": "aff6fee1-ec1e-49f3-aace-10566b8e600d",
   "metadata": {},
   "outputs": [
    {
     "data": {
      "text/plain": [
       "'aceg'"
      ]
     },
     "execution_count": 16,
     "metadata": {},
     "output_type": "execute_result"
    }
   ],
   "source": [
    "mystring[::2]"
   ]
  },
  {
   "cell_type": "code",
   "execution_count": 17,
   "id": "c0a9387c-a270-415c-b869-e47dc534c4f0",
   "metadata": {},
   "outputs": [
    {
     "data": {
      "text/plain": [
       "'ceg'"
      ]
     },
     "execution_count": 17,
     "metadata": {},
     "output_type": "execute_result"
    }
   ],
   "source": [
    "mystring[2:7:2]"
   ]
  },
  {
   "cell_type": "code",
   "execution_count": 18,
   "id": "4521b010-30ed-4a63-8eb5-57ed70543310",
   "metadata": {},
   "outputs": [
    {
     "data": {
      "text/plain": [
       "'hgfedcba'"
      ]
     },
     "execution_count": 18,
     "metadata": {},
     "output_type": "execute_result"
    }
   ],
   "source": [
    "mystring[::-1]"
   ]
  },
  {
   "cell_type": "code",
   "execution_count": 19,
   "id": "16514476-0db9-418b-9273-c17dea2d8ee2",
   "metadata": {},
   "outputs": [],
   "source": [
    "x = \"hello,\""
   ]
  },
  {
   "cell_type": "code",
   "execution_count": 20,
   "id": "4c01a80b-c12c-4d4f-b28d-c8304a159139",
   "metadata": {},
   "outputs": [
    {
     "data": {
      "text/plain": [
       "'hello, World'"
      ]
     },
     "execution_count": 20,
     "metadata": {},
     "output_type": "execute_result"
    }
   ],
   "source": [
    "x + \" World\""
   ]
  },
  {
   "cell_type": "code",
   "execution_count": 21,
   "id": "adfdb30f-410c-4397-875a-d91be8e2c3a9",
   "metadata": {},
   "outputs": [],
   "source": [
    "letter = 'R' "
   ]
  },
  {
   "cell_type": "code",
   "execution_count": 22,
   "id": "39fe3afc-03fd-4ffc-ae74-0ea29e9e93e0",
   "metadata": {},
   "outputs": [
    {
     "data": {
      "text/plain": [
       "'RRRRRRRRRRRRRRRRRR'"
      ]
     },
     "execution_count": 22,
     "metadata": {},
     "output_type": "execute_result"
    }
   ],
   "source": [
    "letter * 18"
   ]
  },
  {
   "cell_type": "code",
   "execution_count": 23,
   "id": "95278b6c-3c2d-4260-92cf-f0549cd148ea",
   "metadata": {},
   "outputs": [
    {
     "data": {
      "text/plain": [
       "5"
      ]
     },
     "execution_count": 23,
     "metadata": {},
     "output_type": "execute_result"
    }
   ],
   "source": [
    "2+3"
   ]
  },
  {
   "cell_type": "code",
   "execution_count": 24,
   "id": "a9eac278-e8ac-4fa0-8870-e012178abb1b",
   "metadata": {},
   "outputs": [
    {
     "data": {
      "text/plain": [
       "'23'"
      ]
     },
     "execution_count": 24,
     "metadata": {},
     "output_type": "execute_result"
    }
   ],
   "source": [
    "'2'+'3'"
   ]
  },
  {
   "cell_type": "code",
   "execution_count": 31,
   "id": "af54ee27-6df4-469f-8942-213da76c576c",
   "metadata": {},
   "outputs": [],
   "source": [
    "x = \"hello world\""
   ]
  },
  {
   "cell_type": "code",
   "execution_count": 32,
   "id": "64c6990a-6fa6-4863-94fa-1f31475dcce5",
   "metadata": {},
   "outputs": [
    {
     "data": {
      "text/plain": [
       "'HELLO WORLD'"
      ]
     },
     "execution_count": 32,
     "metadata": {},
     "output_type": "execute_result"
    }
   ],
   "source": [
    "x.upper()"
   ]
  },
  {
   "cell_type": "code",
   "execution_count": 33,
   "id": "bbf57099-47d6-4274-a574-45797b2dbd3c",
   "metadata": {},
   "outputs": [
    {
     "data": {
      "text/plain": [
       "'hello world'"
      ]
     },
     "execution_count": 33,
     "metadata": {},
     "output_type": "execute_result"
    }
   ],
   "source": [
    "x"
   ]
  },
  {
   "cell_type": "code",
   "execution_count": 34,
   "id": "bcde6fe7-67cb-48b2-8d66-a406d6dce89a",
   "metadata": {},
   "outputs": [
    {
     "data": {
      "text/plain": [
       "['hello', 'world']"
      ]
     },
     "execution_count": 34,
     "metadata": {},
     "output_type": "execute_result"
    }
   ],
   "source": [
    "x.split()"
   ]
  },
  {
   "cell_type": "code",
   "execution_count": 37,
   "id": "1d1e45b2-cb4b-42ee-a88f-4d03b5176337",
   "metadata": {},
   "outputs": [
    {
     "data": {
      "text/plain": [
       "['he', '', 'o wor', 'd']"
      ]
     },
     "execution_count": 37,
     "metadata": {},
     "output_type": "execute_result"
    }
   ],
   "source": [
    "x.split('l')"
   ]
  },
  {
   "cell_type": "code",
   "execution_count": 39,
   "id": "90f6e61b-a874-4a36-a790-1a731dd584de",
   "metadata": {},
   "outputs": [
    {
     "name": "stdout",
     "output_type": "stream",
     "text": [
      "this is the string INSERTED\n"
     ]
    }
   ],
   "source": [
    "# formatting string .format()\n",
    "print('this is the string {}'.format('INSERTED'))\n"
   ]
  },
  {
   "cell_type": "code",
   "execution_count": 41,
   "id": "cc8990c2-3da2-4d45-aa71-a5ea05a759f1",
   "metadata": {},
   "outputs": [
    {
     "name": "stdout",
     "output_type": "stream",
     "text": [
      "this is good\n"
     ]
    }
   ],
   "source": [
    "print('this {} {}'.format('is','good'))"
   ]
  },
  {
   "cell_type": "code",
   "execution_count": null,
   "id": "0932cbd8-2bb9-4c5d-bec3-f7dc27ea18ea",
   "metadata": {},
   "outputs": [],
   "source": []
  }
 ],
 "metadata": {
  "kernelspec": {
   "display_name": "Python [conda env:base] *",
   "language": "python",
   "name": "conda-base-py"
  },
  "language_info": {
   "codemirror_mode": {
    "name": "ipython",
    "version": 3
   },
   "file_extension": ".py",
   "mimetype": "text/x-python",
   "name": "python",
   "nbconvert_exporter": "python",
   "pygments_lexer": "ipython3",
   "version": "3.13.5"
  }
 },
 "nbformat": 4,
 "nbformat_minor": 5
}
