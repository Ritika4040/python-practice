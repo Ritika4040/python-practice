{
 "cells": [
  {
   "cell_type": "markdown",
   "id": "c997f013-2524-4f83-8e79-cac669a93eda",
   "metadata": {},
   "source": [
    "The provided code stub reads an integer,n, from STDIN. For all non-negative integers i<n, print i**2. (from hackerRank)"
   ]
  },
  {
   "cell_type": "code",
   "execution_count": 2,
   "id": "c35ec2d8-63b7-479d-9d4d-9425d1ca0dcd",
   "metadata": {},
   "outputs": [
    {
     "name": "stdout",
     "output_type": "stream",
     "text": [
      "0\n",
      "1\n",
      "4\n",
      "9\n",
      "16\n"
     ]
    }
   ],
   "source": [
    " n = 5\n",
    " for i in range(n):\n",
    "        print(i*i)"
   ]
  },
  {
   "cell_type": "markdown",
   "id": "ce9ebf33-6fb5-4cec-a562-ab0036626a2e",
   "metadata": {},
   "source": [
    "Some if-else programs"
   ]
  },
  {
   "cell_type": "code",
   "execution_count": 6,
   "id": "23a86329-6b7a-407d-bde0-6ab0cf82ff00",
   "metadata": {},
   "outputs": [
    {
     "name": "stdin",
     "output_type": "stream",
     "text": [
      "Enter your age:  18\n"
     ]
    },
    {
     "name": "stdout",
     "output_type": "stream",
     "text": [
      "your age is: 18\n",
      "you can drive\n"
     ]
    }
   ],
   "source": [
    "# program to check driving age\n",
    "a = int(input(\"Enter your age: \"))\n",
    "print(\"your age is:\", a)\n",
    "if(a>=18):\n",
    "  print(\"you can drive\")\n",
    "else:\n",
    "  print(\"you cannot drive\")"
   ]
  },
  {
   "cell_type": "code",
   "execution_count": 7,
   "id": "c70b25da-1f48-4558-b902-075658a5fb09",
   "metadata": {},
   "outputs": [
    {
     "name": "stdin",
     "output_type": "stream",
     "text": [
      "Enter your blood-group:  B+\n"
     ]
    },
    {
     "name": "stdout",
     "output_type": "stream",
     "text": [
      "your blood-group is:  B+\n",
      "blood-group match, THANK YOU\n"
     ]
    }
   ],
   "source": [
    "# to check blood group (for B+)\n",
    "a=str(input(\"Enter your blood-group: \"))\n",
    "print(\"your blood-group is: \",a)\n",
    "if(a==\"B+\"):\n",
    "    print(\"blood-group match, THANK YOU\")\n",
    "else:\n",
    "    print(\"blood-group not match, THANK YOU\")"
   ]
  },
  {
   "cell_type": "markdown",
   "id": "9beb6c81-d817-4e5b-8abd-4f5fb570e291",
   "metadata": {},
   "source": [
    "# for elif\n",
    "Write a program to check the grade on the based of score.\n",
    "If score >=  90 = Grade A\n",
    "If score >=  80 = Grade B\n",
    "If score >= 70 = Grade C\n",
    "If score >= 60 = Grade D\n",
    "Else = Grade F"
   ]
  },
  {
   "cell_type": "code",
   "execution_count": 8,
   "id": "80ba4460-1af5-496c-932f-ec2635c0ac4a",
   "metadata": {},
   "outputs": [
    {
     "name": "stdin",
     "output_type": "stream",
     "text": [
      "Enter the student's score:  85\n"
     ]
    },
    {
     "name": "stdout",
     "output_type": "stream",
     "text": [
      "Grade B\n"
     ]
    }
   ],
   "source": [
    "score = int(input(\"Enter the student's score: \"))\n",
    "if score >= 90:\n",
    "    print(\"Grade A\")\n",
    "elif score >= 80:\n",
    "    print(\"Grade B\")\n",
    "elif score >= 70:\n",
    "    print(\"Grade C\")\n",
    "elif score >= 60:\n",
    "    print(\"Grade D\")\n",
    "else:\n",
    "    print(\"Grade F\")"
   ]
  },
  {
   "cell_type": "code",
   "execution_count": 10,
   "id": "b2ecafed-37f7-4546-a484-91ceebf653c1",
   "metadata": {},
   "outputs": [
    {
     "name": "stdin",
     "output_type": "stream",
     "text": [
      "Enter first number:  23\n",
      "Enter second number:  46\n",
      "Enter third number:  56\n"
     ]
    },
    {
     "name": "stdout",
     "output_type": "stream",
     "text": [
      "Largest number is : 56\n"
     ]
    }
   ],
   "source": [
    "#Find the Largest of Three Numbers\n",
    "a = int(input(\"Enter first number: \"))\n",
    "b = int(input(\"Enter second number: \"))\n",
    "c = int(input(\"Enter third number: \"))\n",
    "\n",
    "if a >= b and a >= c:\n",
    "    print(\"Largest number is :\",a)\n",
    "elif b >= a and b >= c:\n",
    "    print(\"Largest number is :\",b)\n",
    "else:\n",
    "    print(\"Largest number is :\",c)"
   ]
  },
  {
   "cell_type": "code",
   "execution_count": 11,
   "id": "0ac91073-32be-4649-b2ca-335623a335d7",
   "metadata": {},
   "outputs": [
    {
     "name": "stdin",
     "output_type": "stream",
     "text": [
      "Enter a single alphabet:  a\n"
     ]
    },
    {
     "name": "stdout",
     "output_type": "stream",
     "text": [
      "Vowel\n"
     ]
    }
   ],
   "source": [
    "#Check if a Character is a Vowel or Consonant.\n",
    "ch = input(\"Enter a single alphabet: \")\n",
    "\n",
    "if ch in 'aeiou':\n",
    "    print(\"Vowel\")\n",
    "elif ch.isalpha():\n",
    "    print(\"Consonant\")\n",
    "else:\n",
    "    print(\"Not an alphabet\")"
   ]
  },
  {
   "cell_type": "code",
   "execution_count": 13,
   "id": "1ea94b44-7235-498c-9865-07d01a319255",
   "metadata": {},
   "outputs": [
    {
     "name": "stdin",
     "output_type": "stream",
     "text": [
      "How many numbers?  3\n",
      "Enter number 1:  2\n"
     ]
    },
    {
     "name": "stdout",
     "output_type": "stream",
     "text": [
      "Even\n"
     ]
    },
    {
     "name": "stdin",
     "output_type": "stream",
     "text": [
      "Enter number 2:  5\n"
     ]
    },
    {
     "name": "stdout",
     "output_type": "stream",
     "text": [
      "Odd\n"
     ]
    },
    {
     "name": "stdin",
     "output_type": "stream",
     "text": [
      "Enter number 3:  83542\n"
     ]
    },
    {
     "name": "stdout",
     "output_type": "stream",
     "text": [
      "Even\n"
     ]
    }
   ],
   "source": [
    "#Odd or Even for Multiple Numbers.\n",
    "a = int(input(\"How many numbers? \"))\n",
    "\n",
    "for i in range(a):\n",
    "    num = int(input(f\"Enter number {i+1}: \"))\n",
    "    if num % 2 == 0:\n",
    "        print(\"Even\")\n",
    "    else:\n",
    "        print(\"Odd\")"
   ]
  },
  {
   "cell_type": "code",
   "execution_count": 15,
   "id": "d7a2cd23-ba64-4e15-bd2e-3a6f535eb324",
   "metadata": {},
   "outputs": [
    {
     "name": "stdin",
     "output_type": "stream",
     "text": [
      "Enter student's age:  6\n"
     ]
    },
    {
     "name": "stdout",
     "output_type": "stream",
     "text": [
      "10% discount\n"
     ]
    }
   ],
   "source": [
    "#Student Fee Discount Based on Age.\n",
    "age = int(input(\"Enter student's age: \"))\n",
    "if age <= 4:\n",
    "    print(\"Free\")\n",
    "elif age <= 7:\n",
    "    print(\"10% discount\")\n",
    "elif age <= 10:\n",
    "    print(\"NO DISCOUNT\")\n",
    "else:\n",
    "    print(\"Thank you\")"
   ]
  },
  {
   "cell_type": "code",
   "execution_count": null,
   "id": "3c7980bb-256f-4fec-aaf6-777138eafd27",
   "metadata": {},
   "outputs": [],
   "source": []
  }
 ],
 "metadata": {
  "kernelspec": {
   "display_name": "Python [conda env:base] *",
   "language": "python",
   "name": "conda-base-py"
  },
  "language_info": {
   "codemirror_mode": {
    "name": "ipython",
    "version": 3
   },
   "file_extension": ".py",
   "mimetype": "text/x-python",
   "name": "python",
   "nbconvert_exporter": "python",
   "pygments_lexer": "ipython3",
   "version": "3.13.5"
  }
 },
 "nbformat": 4,
 "nbformat_minor": 5
}
