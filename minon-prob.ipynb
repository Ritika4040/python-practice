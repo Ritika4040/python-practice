{
 "cells": [
  {
   "cell_type": "code",
   "execution_count": 8,
   "id": "5859875e-688f-4956-8b9a-f6c7ee670c96",
   "metadata": {},
   "outputs": [
    {
     "name": "stdout",
     "output_type": "stream",
     "text": [
      "R\n",
      "RI\n",
      "RIT\n",
      "RITI\n",
      "RITIK\n",
      "RITIKA\n",
      "I\n",
      "IT\n",
      "ITI\n",
      "ITIK\n",
      "ITIKA\n",
      "T\n",
      "TI\n",
      "TIK\n",
      "TIKA\n",
      "I\n",
      "IK\n",
      "IKA\n",
      "K\n",
      "KA\n",
      "A\n"
     ]
    }
   ],
   "source": [
    "s=\"RITIKA\"\n",
    "for i in range(len(s)):\n",
    "    for j in range(i+1,len(s)+1):\n",
    "        print(s[i:j])"
   ]
  },
  {
   "cell_type": "code",
   "execution_count": 25,
   "id": "d79f2eb5-2b3b-44ed-9f05-dfd146c81b1b",
   "metadata": {},
   "outputs": [
    {
     "name": "stdout",
     "output_type": "stream",
     "text": [
      "consonant\n",
      "consonant\n",
      "consonant\n",
      "consonant\n",
      "consonant\n",
      "consonant\n",
      "vowel\n",
      "vowel\n",
      "vowel\n",
      "vowel\n",
      "vowel\n",
      "consonant\n",
      "consonant\n",
      "consonant\n",
      "consonant\n",
      "vowel\n",
      "vowel\n",
      "vowel\n",
      "consonant\n",
      "consonant\n",
      "vowel\n"
     ]
    }
   ],
   "source": [
    "s=\"RITIKA\"\n",
    "V='AEIOU'\n",
    "for i in range(len(s)):\n",
    "    for j in range(i+1,len(s)+1):\n",
    "        \n",
    "        if s[i:j][0] in V:\n",
    "            print('vowel')\n",
    "\n",
    "        else:\n",
    "            print('consonant')"
   ]
  },
  {
   "cell_type": "code",
   "execution_count": 33,
   "id": "1a04c5b6-342a-496f-b030-4269ae33aad0",
   "metadata": {},
   "outputs": [
    {
     "name": "stdout",
     "output_type": "stream",
     "text": [
      "12 consonant\n",
      "9 vowel\n"
     ]
    }
   ],
   "source": [
    "s=\"RITIKA\"\n",
    "V='AEIOU'\n",
    "count_v=0\n",
    "count_c=0\n",
    "for i in range(len(s)):\n",
    "    for j in range(i+1,len(s)+1):\n",
    "        \n",
    "        if s[i:j][0] in V:\n",
    "            count_v=count_v+1\n",
    "            \n",
    "\n",
    "        else:\n",
    "            count_c=count_c+1\n",
    "print(count_c,\"consonant\")\n",
    "print(count_v,\"vowel\")\n"
   ]
  },
  {
   "cell_type": "code",
   "execution_count": 34,
   "id": "d731c291-caa3-457a-8335-4d0757ab2758",
   "metadata": {},
   "outputs": [
    {
     "name": "stdout",
     "output_type": "stream",
     "text": [
      "consonant\n",
      "consonant\n",
      "consonant\n",
      "consonant\n",
      "consonant\n",
      "consonant\n",
      "vowel\n",
      "vowel\n",
      "vowel\n",
      "vowel\n",
      "vowel\n",
      "consonant\n",
      "consonant\n",
      "consonant\n",
      "consonant\n",
      "vowel\n",
      "vowel\n",
      "vowel\n",
      "consonant\n",
      "consonant\n",
      "vowel\n"
     ]
    }
   ],
   "source": [
    "s=\"BANANA\"\n",
    "V='AEIOU'\n",
    "for i in range(len(s)):\n",
    "    for j in range(i+1,len(s)+1):\n",
    "        \n",
    "        if s[i:j][0] in V:\n",
    "            print('vowel')\n",
    "\n",
    "        else:\n",
    "            print('consonant')"
   ]
  },
  {
   "cell_type": "code",
   "execution_count": 1,
   "id": "d0f9c7a7-6463-4bb2-b3ec-426794e9e7be",
   "metadata": {},
   "outputs": [
    {
     "name": "stdout",
     "output_type": "stream",
     "text": [
      "10 consonant\n",
      "5 vowel\n"
     ]
    }
   ],
   "source": [
    "s=\"BANANA\"\n",
    "V='AEIOU'\n",
    "l=[]\n",
    "count_v=0\n",
    "count_c=0\n",
    "for i in range(len(s)):\n",
    "    for j in range(i+1,len(s)+1):\n",
    "        \n",
    "        if s[i:j] in l:\n",
    "            continue\n",
    "        l.append(s[i:j])\n",
    "        \n",
    "        if s[i:j][0] in V:\n",
    "            count_v=count_v+1\n",
    "            \n",
    "\n",
    "        else:\n",
    "            count_c=count_c+1\n",
    "print(count_c,\"consonant\")\n",
    "print(count_v,\"vowel\")"
   ]
  },
  {
   "cell_type": "code",
   "execution_count": 3,
   "id": "1be577f3-bfb2-4856-ae30-b8818dbe3b2a",
   "metadata": {},
   "outputs": [
    {
     "name": "stdout",
     "output_type": "stream",
     "text": [
      "Stuart 12\n"
     ]
    }
   ],
   "source": [
    "s=\"BANANA\"\n",
    "V='AEIOU'\n",
    "count_v=0\n",
    "count_c=0\n",
    "for i in range(len(s)):\n",
    "     for j in range(i+1,len(s)+1):\n",
    "        if s[i][0] in V:\n",
    "            count_v=count_v+1\n",
    "            \n",
    "        else:\n",
    "            count_c=count_c+1\n",
    "            \n",
    "if count_v > count_c:\n",
    "    print(\"Kevin\",count_v)\n",
    "elif count_v < count_c:\n",
    "    print(\"Stuart\",count_c)\n",
    "else:\n",
    "    print(\"end\")"
   ]
  },
  {
   "cell_type": "code",
   "execution_count": null,
   "id": "b6dfb170-cb46-481b-84f0-a86dfd40d743",
   "metadata": {},
   "outputs": [],
   "source": []
  }
 ],
 "metadata": {
  "kernelspec": {
   "display_name": "Python [conda env:base] *",
   "language": "python",
   "name": "conda-base-py"
  },
  "language_info": {
   "codemirror_mode": {
    "name": "ipython",
    "version": 3
   },
   "file_extension": ".py",
   "mimetype": "text/x-python",
   "name": "python",
   "nbconvert_exporter": "python",
   "pygments_lexer": "ipython3",
   "version": "3.13.5"
  }
 },
 "nbformat": 4,
 "nbformat_minor": 5
}
