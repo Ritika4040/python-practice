{
 "cells": [
  {
   "cell_type": "markdown",
   "id": "be414a7b-15a3-4889-8384-24d0bbd675b9",
   "metadata": {},
   "source": [
    "Arithmetic Operation "
   ]
  },
  {
   "cell_type": "code",
   "execution_count": 4,
   "id": "b7ebc89a-5c7f-40b6-a86f-8dbafbf88d30",
   "metadata": {},
   "outputs": [
    {
     "name": "stdout",
     "output_type": "stream",
     "text": [
      "addition :  18\n",
      "subtraction :  2\n",
      "multipy :  80\n",
      "division :  1\n",
      "mod :  2\n",
      "power :  100000000\n"
     ]
    }
   ],
   "source": [
    "a= 10\n",
    "b= 8\n",
    "print (\"addition : \", a+b)\n",
    "print (\"subtraction : \", a-b)\n",
    "print (\"multipy : \",a*b)\n",
    "print(\"division : \",a//b)\n",
    "print(\"mod : \",a%b)\n",
    "print(\"power : \",a**b)"
   ]
  },
  {
   "cell_type": "code",
   "execution_count": 6,
   "id": "16d044a8-e85c-46a7-adcf-b1579be40690",
   "metadata": {},
   "outputs": [
    {
     "data": {
      "text/plain": [
       "12"
      ]
     },
     "execution_count": 6,
     "metadata": {},
     "output_type": "execute_result"
    }
   ],
   "source": [
    "4*3+2//3"
   ]
  },
  {
   "cell_type": "code",
   "execution_count": 12,
   "id": "4b0350da-34d7-4876-a944-bc067606cfa1",
   "metadata": {},
   "outputs": [
    {
     "data": {
      "text/plain": [
       "3"
      ]
     },
     "execution_count": 12,
     "metadata": {},
     "output_type": "execute_result"
    }
   ],
   "source": [
    "# for mod \n",
    "3%10"
   ]
  },
  {
   "cell_type": "code",
   "execution_count": 8,
   "id": "c7173ff2-1932-40a7-a745-98374d6f6423",
   "metadata": {},
   "outputs": [
    {
     "data": {
      "text/plain": [
       "0"
      ]
     },
     "execution_count": 8,
     "metadata": {},
     "output_type": "execute_result"
    }
   ],
   "source": [
    "9%3"
   ]
  },
  {
   "cell_type": "markdown",
   "id": "557fb624-a4ac-4805-a067-7ac9e24dee93",
   "metadata": {},
   "source": [
    "logical operator"
   ]
  },
  {
   "cell_type": "code",
   "execution_count": 10,
   "id": "c9105f54-7977-491a-92bd-9c093259d981",
   "metadata": {},
   "outputs": [
    {
     "name": "stdout",
     "output_type": "stream",
     "text": [
      "False\n",
      "True\n",
      "True\n",
      "False\n"
     ]
    }
   ],
   "source": [
    "a= True\n",
    "b= False\n",
    "print(a and b)\n",
    "print(a or b)\n",
    "print( not b)\n",
    "print( not a)\n"
   ]
  },
  {
   "cell_type": "markdown",
   "id": "bc675279-8e30-4079-9be8-06940521b368",
   "metadata": {},
   "source": [
    "Comparison operator"
   ]
  },
  {
   "cell_type": "code",
   "execution_count": 11,
   "id": "d1a28540-bc29-4b81-99bb-0997d866d5a4",
   "metadata": {},
   "outputs": [
    {
     "name": "stdout",
     "output_type": "stream",
     "text": [
      "False\n",
      "True\n",
      "True\n",
      "False\n",
      "True\n",
      "False\n"
     ]
    }
   ],
   "source": [
    "a= 15\n",
    "b= 8\n",
    "print(a==b)\n",
    "print(a!=b)\n",
    "print(a>b)\n",
    "print(a<b)\n",
    "print(a>=b)\n",
    "print(a<=b)"
   ]
  },
  {
   "cell_type": "markdown",
   "id": "a2c96e38-69f2-4006-93c1-8d2a61905d4b",
   "metadata": {},
   "source": [
    "assignment operator"
   ]
  },
  {
   "cell_type": "code",
   "execution_count": 13,
   "id": "075f38f2-673c-4cc0-803f-d78b4f7a19d9",
   "metadata": {},
   "outputs": [
    {
     "name": "stdout",
     "output_type": "stream",
     "text": [
      "20\n"
     ]
    }
   ],
   "source": [
    "a = 10\n",
    "a += 5  # 15\n",
    "a *= 2  # 30\n",
    "a -= 10 # 20\n",
    "print(a) "
   ]
  },
  {
   "cell_type": "code",
   "execution_count": null,
   "id": "0bead94c-5170-45eb-be00-ea8c4f373a57",
   "metadata": {},
   "outputs": [],
   "source": []
  }
 ],
 "metadata": {
  "kernelspec": {
   "display_name": "Python [conda env:base] *",
   "language": "python",
   "name": "conda-base-py"
  },
  "language_info": {
   "codemirror_mode": {
    "name": "ipython",
    "version": 3
   },
   "file_extension": ".py",
   "mimetype": "text/x-python",
   "name": "python",
   "nbconvert_exporter": "python",
   "pygments_lexer": "ipython3",
   "version": "3.13.5"
  }
 },
 "nbformat": 4,
 "nbformat_minor": 5
}
