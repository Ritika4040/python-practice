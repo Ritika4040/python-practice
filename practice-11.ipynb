{
 "cells": [
  {
   "cell_type": "markdown",
   "id": "d79f2af6-b1d7-456f-b14d-ff749b825a6c",
   "metadata": {},
   "source": [
    "FUNCTIONS- allow us to create blocks of code that can be easily executed many\n",
    "times,without needing to constantly rewrite the entire block of code.\n",
    "function will be a huge leap forward in your capabilities as a python programmer.\n",
    "this means that the problems you are able to solve can also be a lot harder!"
   ]
  },
  {
   "cell_type": "markdown",
   "id": "094eaaac-96f3-4492-8261-d1516fd3990c",
   "metadata": {},
   "source": [
    " def name_of_function():   (syntax of def)\n",
    " typically we use the return keyword to send back the result of the function\n",
    " instead of just printing it out.\n",
    " return allows us to assign the output of the function to new variable.\n",
    " for ex:\n",
    " def add_function(num1,num2):\n",
    "   return num1+num2\n",
    "result=add_function(1,2)\n",
    "print(result)\n",
    "3"
   ]
  },
  {
   "cell_type": "code",
   "execution_count": 1,
   "id": "30ab256d-253d-4782-9ad9-fdb24d293d05",
   "metadata": {},
   "outputs": [],
   "source": [
    "def say_hello():\n",
    "    print(\"hello\")"
   ]
  },
  {
   "cell_type": "code",
   "execution_count": 2,
   "id": "604fc450-f1b9-4386-bdb0-51eb6c581c11",
   "metadata": {},
   "outputs": [
    {
     "name": "stdout",
     "output_type": "stream",
     "text": [
      "hello\n"
     ]
    }
   ],
   "source": [
    "say_hello()"
   ]
  },
  {
   "cell_type": "code",
   "execution_count": 5,
   "id": "871440d6-e72b-47d5-8007-b3db8e684b71",
   "metadata": {},
   "outputs": [],
   "source": [
    "def say_hello():\n",
    "    print(\"hello\")\n",
    "    print(\"how\")\n",
    "    print(\"are\")\n",
    "    print(\"you\")"
   ]
  },
  {
   "cell_type": "code",
   "execution_count": 6,
   "id": "5d9691e6-ddf2-49a0-8654-ba55b014f1a6",
   "metadata": {},
   "outputs": [
    {
     "name": "stdout",
     "output_type": "stream",
     "text": [
      "hello\n",
      "how\n",
      "are\n",
      "you\n"
     ]
    }
   ],
   "source": [
    "say_hello()\n"
   ]
  },
  {
   "cell_type": "code",
   "execution_count": 7,
   "id": "666adf61-37c0-42d7-b1fa-65ca8b439841",
   "metadata": {},
   "outputs": [
    {
     "data": {
      "text/plain": [
       "<function __main__.say_hello()>"
      ]
     },
     "execution_count": 7,
     "metadata": {},
     "output_type": "execute_result"
    }
   ],
   "source": [
    "say_hello"
   ]
  },
  {
   "cell_type": "code",
   "execution_count": 10,
   "id": "266c289b-4a0f-41a4-868c-d1f0161740af",
   "metadata": {},
   "outputs": [],
   "source": [
    "def hello(name):\n",
    "    print(f'Hello {name}')"
   ]
  },
  {
   "cell_type": "code",
   "execution_count": 11,
   "id": "1ff157f5-69dc-4023-a44d-3dfc0c57d6c6",
   "metadata": {},
   "outputs": [
    {
     "name": "stdout",
     "output_type": "stream",
     "text": [
      "Hello jelly\n"
     ]
    }
   ],
   "source": [
    "hello('jelly')"
   ]
  },
  {
   "cell_type": "code",
   "execution_count": 14,
   "id": "b5d321d2-0298-41cf-b13d-8abb25c6495a",
   "metadata": {},
   "outputs": [],
   "source": [
    "def hello(name='Defult'):\n",
    "    print(f'Hello {name}')"
   ]
  },
  {
   "cell_type": "code",
   "execution_count": 15,
   "id": "c80a8b50-7013-415b-bdab-284d31483779",
   "metadata": {},
   "outputs": [
    {
     "name": "stdout",
     "output_type": "stream",
     "text": [
      "Hello Defult\n"
     ]
    }
   ],
   "source": [
    "hello()"
   ]
  },
  {
   "cell_type": "code",
   "execution_count": 16,
   "id": "e3f66ee8-00ee-48e4-905c-a04a77fd63e4",
   "metadata": {},
   "outputs": [],
   "source": [
    "def add_num(num1,num2):\n",
    "    return num1+num2"
   ]
  },
  {
   "cell_type": "code",
   "execution_count": 18,
   "id": "183950bb-1733-4d39-9878-62c9b7124119",
   "metadata": {},
   "outputs": [],
   "source": [
    "result=add_num(10,20)"
   ]
  },
  {
   "cell_type": "code",
   "execution_count": 19,
   "id": "f88d6e3d-7f3c-4cff-b97d-1f30926d2f07",
   "metadata": {},
   "outputs": [
    {
     "data": {
      "text/plain": [
       "30"
      ]
     },
     "execution_count": 19,
     "metadata": {},
     "output_type": "execute_result"
    }
   ],
   "source": [
    "result"
   ]
  },
  {
   "cell_type": "code",
   "execution_count": 20,
   "id": "c98d4228-046e-45f4-960d-c54d75de3aee",
   "metadata": {},
   "outputs": [],
   "source": [
    "def print_result(a,b):\n",
    "    print(a+b)"
   ]
  },
  {
   "cell_type": "code",
   "execution_count": 21,
   "id": "6c58b4a3-5a7b-4ab6-bc2b-1d494286bab4",
   "metadata": {},
   "outputs": [],
   "source": [
    "def return_result(a,b):\n",
    "    return a+b"
   ]
  },
  {
   "cell_type": "code",
   "execution_count": 23,
   "id": "ad9cb491-3d4f-46ef-8ea8-f2beda4a555e",
   "metadata": {},
   "outputs": [
    {
     "name": "stdout",
     "output_type": "stream",
     "text": [
      "50\n"
     ]
    }
   ],
   "source": [
    "result=print_result(10,40) "
   ]
  },
  {
   "cell_type": "code",
   "execution_count": 24,
   "id": "b2080ef8-5f9d-4c4f-96da-0d2d94afb094",
   "metadata": {},
   "outputs": [],
   "source": [
    "result"
   ]
  },
  {
   "cell_type": "markdown",
   "id": "5acfdb46-b885-48b4-9008-84953c665626",
   "metadata": {},
   "source": [
    "the difference beteen print and return is we can not save the value to the variable in print ,and in return we can save the value.\n",
    "for ex here:\n",
    "result=print_result(10,40) it will not be saved in result\n",
    "result=return_result(10,50) it will get save in result1 ."
   ]
  },
  {
   "cell_type": "code",
   "execution_count": 25,
   "id": "9ef8a1ef-187e-4490-a46c-8e6e52c80223",
   "metadata": {},
   "outputs": [
    {
     "data": {
      "text/plain": [
       "NoneType"
      ]
     },
     "execution_count": 25,
     "metadata": {},
     "output_type": "execute_result"
    }
   ],
   "source": [
    "type(result)"
   ]
  },
  {
   "cell_type": "code",
   "execution_count": 28,
   "id": "4dc14637-b55a-455c-b571-a8a2eebf45b1",
   "metadata": {},
   "outputs": [],
   "source": [
    "result=return_result(10,50)"
   ]
  },
  {
   "cell_type": "code",
   "execution_count": 29,
   "id": "e352f5e9-2485-4ba4-9a87-95808c7f6c9a",
   "metadata": {},
   "outputs": [
    {
     "data": {
      "text/plain": [
       "60"
      ]
     },
     "execution_count": 29,
     "metadata": {},
     "output_type": "execute_result"
    }
   ],
   "source": [
    "result"
   ]
  },
  {
   "cell_type": "code",
   "execution_count": 30,
   "id": "3bd52e3b-de08-4533-8c84-16f053118f29",
   "metadata": {},
   "outputs": [],
   "source": [
    "def sum_numbers(num1,num2):\n",
    "    return num1+num2"
   ]
  },
  {
   "cell_type": "code",
   "execution_count": 31,
   "id": "4d13d00d-616e-440c-be6e-4934ec9729e5",
   "metadata": {},
   "outputs": [
    {
     "data": {
      "text/plain": [
       "30"
      ]
     },
     "execution_count": 31,
     "metadata": {},
     "output_type": "execute_result"
    }
   ],
   "source": [
    "sum_numbers(10,20)"
   ]
  },
  {
   "cell_type": "code",
   "execution_count": 32,
   "id": "d8ea296c-e7e3-46b6-8d82-bc6f51745d66",
   "metadata": {},
   "outputs": [
    {
     "data": {
      "text/plain": [
       "'1020'"
      ]
     },
     "execution_count": 32,
     "metadata": {},
     "output_type": "execute_result"
    }
   ],
   "source": [
    "sum_numbers('10','20')"
   ]
  },
  {
   "cell_type": "code",
   "execution_count": 33,
   "id": "52e97589-8d28-49a1-8740-7a28c7e75e7e",
   "metadata": {},
   "outputs": [
    {
     "data": {
      "text/plain": [
       "0"
      ]
     },
     "execution_count": 33,
     "metadata": {},
     "output_type": "execute_result"
    }
   ],
   "source": [
    "2%2"
   ]
  },
  {
   "cell_type": "code",
   "execution_count": 34,
   "id": "aab2e4d9-6251-4f7e-9328-986f6949d4ab",
   "metadata": {},
   "outputs": [
    {
     "data": {
      "text/plain": [
       "1"
      ]
     },
     "execution_count": 34,
     "metadata": {},
     "output_type": "execute_result"
    }
   ],
   "source": [
    "3%2"
   ]
  },
  {
   "cell_type": "code",
   "execution_count": 35,
   "id": "6aac3b42-6159-4b07-8010-122fa938679d",
   "metadata": {},
   "outputs": [
    {
     "data": {
      "text/plain": [
       "1"
      ]
     },
     "execution_count": 35,
     "metadata": {},
     "output_type": "execute_result"
    }
   ],
   "source": [
    "41%40"
   ]
  },
  {
   "cell_type": "code",
   "execution_count": 36,
   "id": "9885b345-da29-4e0d-952d-d23d0a6d1ae7",
   "metadata": {},
   "outputs": [
    {
     "data": {
      "text/plain": [
       "True"
      ]
     },
     "execution_count": 36,
     "metadata": {},
     "output_type": "execute_result"
    }
   ],
   "source": [
    "20%2==0"
   ]
  },
  {
   "cell_type": "code",
   "execution_count": 37,
   "id": "a96a7d32-db0f-4de7-8186-1b68778319b6",
   "metadata": {},
   "outputs": [],
   "source": [
    "def even_check(number):\n",
    "    result=number% 2==0\n",
    "    return result"
   ]
  },
  {
   "cell_type": "code",
   "execution_count": 38,
   "id": "d53d7fbb-b438-4402-bcea-a93620f2976a",
   "metadata": {},
   "outputs": [
    {
     "data": {
      "text/plain": [
       "True"
      ]
     },
     "execution_count": 38,
     "metadata": {},
     "output_type": "execute_result"
    }
   ],
   "source": [
    "even_check(40)"
   ]
  },
  {
   "cell_type": "code",
   "execution_count": 39,
   "id": "9fb58922-e5ad-4eac-b45c-de910386c2db",
   "metadata": {},
   "outputs": [
    {
     "data": {
      "text/plain": [
       "False"
      ]
     },
     "execution_count": 39,
     "metadata": {},
     "output_type": "execute_result"
    }
   ],
   "source": [
    "even_check(21)"
   ]
  },
  {
   "cell_type": "code",
   "execution_count": 40,
   "id": "462b1822-df44-45b4-94c0-07690cf7b881",
   "metadata": {},
   "outputs": [],
   "source": [
    "# return true if any number is even inside a list"
   ]
  },
  {
   "cell_type": "code",
   "execution_count": 41,
   "id": "48a16d4c-edb2-45b6-a168-2ebdfb66abe7",
   "metadata": {},
   "outputs": [],
   "source": [
    "def check_even_list(num_list):\n",
    "    for number in num_list:\n",
    "        if number% 2==0:\n",
    "            return True\n",
    "        else:\n",
    "            pass"
   ]
  },
  {
   "cell_type": "code",
   "execution_count": 42,
   "id": "bb572fb3-b0c3-47d6-ab24-ba7953be071d",
   "metadata": {},
   "outputs": [],
   "source": [
    "check_even_list([1,3,5])"
   ]
  },
  {
   "cell_type": "code",
   "execution_count": 43,
   "id": "934ac3f5-bae4-41c6-99cf-cc9737b98c44",
   "metadata": {},
   "outputs": [
    {
     "data": {
      "text/plain": [
       "True"
      ]
     },
     "execution_count": 43,
     "metadata": {},
     "output_type": "execute_result"
    }
   ],
   "source": [
    "check_even_list([2,4,6])"
   ]
  },
  {
   "cell_type": "code",
   "execution_count": 44,
   "id": "02de24c6-94a2-456e-85b3-49091b371383",
   "metadata": {},
   "outputs": [
    {
     "data": {
      "text/plain": [
       "True"
      ]
     },
     "execution_count": 44,
     "metadata": {},
     "output_type": "execute_result"
    }
   ],
   "source": [
    "check_even_list([2,1,1,1])"
   ]
  },
  {
   "cell_type": "code",
   "execution_count": 45,
   "id": "91651ec5-33ef-4434-bc0a-f36e9ef0533b",
   "metadata": {},
   "outputs": [],
   "source": [
    "def check_even_list(num_list):\n",
    "    for number in num_list:\n",
    "        if number% 2==0:\n",
    "            return True\n",
    "        else:\n",
    "            pass\n",
    "            \n",
    "    return False"
   ]
  },
  {
   "cell_type": "code",
   "execution_count": 46,
   "id": "d2bff556-563a-413f-836d-445367f23816",
   "metadata": {},
   "outputs": [
    {
     "data": {
      "text/plain": [
       "True"
      ]
     },
     "execution_count": 46,
     "metadata": {},
     "output_type": "execute_result"
    }
   ],
   "source": [
    "check_even_list([1,2,6])"
   ]
  },
  {
   "cell_type": "code",
   "execution_count": 49,
   "id": "bc97b639-156f-4d73-b2cd-b7257934bb02",
   "metadata": {},
   "outputs": [
    {
     "data": {
      "text/plain": [
       "False"
      ]
     },
     "execution_count": 49,
     "metadata": {},
     "output_type": "execute_result"
    }
   ],
   "source": [
    "check_even_list([7,1,3])"
   ]
  },
  {
   "cell_type": "code",
   "execution_count": null,
   "id": "6f8c59ac-3e3a-4e40-9558-44b3dcf4b34a",
   "metadata": {},
   "outputs": [],
   "source": []
  }
 ],
 "metadata": {
  "kernelspec": {
   "display_name": "Python [conda env:base] *",
   "language": "python",
   "name": "conda-base-py"
  },
  "language_info": {
   "codemirror_mode": {
    "name": "ipython",
    "version": 3
   },
   "file_extension": ".py",
   "mimetype": "text/x-python",
   "name": "python",
   "nbconvert_exporter": "python",
   "pygments_lexer": "ipython3",
   "version": "3.13.5"
  }
 },
 "nbformat": 4,
 "nbformat_minor": 5
}
