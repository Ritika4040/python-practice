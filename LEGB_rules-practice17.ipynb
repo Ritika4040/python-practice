{
 "cells": [
  {
   "cell_type": "markdown",
   "id": "2f177f5a-e8c3-4b07-9f06-9708a2f97920",
   "metadata": {},
   "source": [
    "Nested Statements and Scope"
   ]
  },
  {
   "cell_type": "code",
   "execution_count": 1,
   "id": "900dc279-6ff7-4778-b319-467f557ed3f5",
   "metadata": {},
   "outputs": [],
   "source": [
    "x = 25"
   ]
  },
  {
   "cell_type": "code",
   "execution_count": 2,
   "id": "e3854703-cfbc-45ab-b2d5-5f48dc0689a3",
   "metadata": {},
   "outputs": [],
   "source": [
    "def printer():\n",
    "    x = 50\n",
    "    return x"
   ]
  },
  {
   "cell_type": "code",
   "execution_count": 3,
   "id": "fe8c82ca-0b6e-4025-9fb7-95447c305f30",
   "metadata": {},
   "outputs": [
    {
     "name": "stdout",
     "output_type": "stream",
     "text": [
      "25\n"
     ]
    }
   ],
   "source": [
    "print(x)"
   ]
  },
  {
   "cell_type": "code",
   "execution_count": 4,
   "id": "2495631b-cc02-4df6-86e9-95ef127f37f5",
   "metadata": {},
   "outputs": [
    {
     "name": "stdout",
     "output_type": "stream",
     "text": [
      "50\n"
     ]
    }
   ],
   "source": [
    "print(printer())"
   ]
  },
  {
   "cell_type": "markdown",
   "id": "465f06ea-590b-4ee7-9d44-e29e448d48ac",
   "metadata": {},
   "source": [
    "LEGB Rule\n",
    "Local Enclosing function locals Global and Built-in\n",
    "\n",
    "Local: Names assigned within a function (not declared global).\n",
    "Enclosing function locals: Names in the local scope of any enclosing functions from inner to outer.\n",
    "Global: Names assigned at the top level of a module file or declared global in a function.\n",
    "Built-in: Names preassigned in the built-in names module (e.g., open, range, list, str)."
   ]
  },
  {
   "cell_type": "code",
   "execution_count": 9,
   "id": "60f2308a-5c9e-44ea-b59d-7711f0238bd2",
   "metadata": {},
   "outputs": [
    {
     "data": {
      "text/plain": [
       "<function __main__.<lambda>(num)>"
      ]
     },
     "execution_count": 9,
     "metadata": {},
     "output_type": "execute_result"
    }
   ],
   "source": [
    "lambda num: num ** 2\n"
   ]
  },
  {
   "cell_type": "code",
   "execution_count": 10,
   "id": "f39b004a-5152-4987-bf46-ae0b25f673dd",
   "metadata": {},
   "outputs": [],
   "source": [
    "name = \"THIS IS A GLOBAL STRING\""
   ]
  },
  {
   "cell_type": "code",
   "execution_count": 15,
   "id": "1dc58965-c6d1-49db-8b4a-dd09fe400f24",
   "metadata": {},
   "outputs": [],
   "source": [
    "def greet():\n",
    "    name = 'Sammy'\n",
    "    def hello():\n",
    "        print('Hello ' + name)\n",
    "    hello()"
   ]
  },
  {
   "cell_type": "code",
   "execution_count": 16,
   "id": "4becb67b-8370-4138-adaa-26a70f13539d",
   "metadata": {},
   "outputs": [
    {
     "name": "stdout",
     "output_type": "stream",
     "text": [
      "Hello Sammy\n"
     ]
    }
   ],
   "source": [
    "greet()"
   ]
  },
  {
   "cell_type": "code",
   "execution_count": 19,
   "id": "2498a91c-ceaa-4a28-8929-8475840c3b43",
   "metadata": {},
   "outputs": [],
   "source": [
    "x = 50\n",
    "def func(x):\n",
    "    print(f\"X is {x}\")\n",
    "    x = 200\n",
    "    print(f\"I JUST LOCALLY CHANGED X TO {x}\")"
   ]
  },
  {
   "cell_type": "code",
   "execution_count": 20,
   "id": "6f62e942-8a1b-4445-b9f1-648d4d9e10e6",
   "metadata": {},
   "outputs": [
    {
     "name": "stdout",
     "output_type": "stream",
     "text": [
      "X is 50\n",
      "I JUST LOCALLY CHANGED X TO 200\n"
     ]
    }
   ],
   "source": [
    "func(x)"
   ]
  },
  {
   "cell_type": "code",
   "execution_count": 21,
   "id": "8c3cc7a0-3d99-42d7-bd1d-6d12ee9f2997",
   "metadata": {},
   "outputs": [
    {
     "name": "stdout",
     "output_type": "stream",
     "text": [
      "50\n"
     ]
    }
   ],
   "source": [
    "print(x)"
   ]
  },
  {
   "cell_type": "code",
   "execution_count": 22,
   "id": "682d8dbe-d4ea-41e1-b7a6-fc0379e4becb",
   "metadata": {},
   "outputs": [],
   "source": [
    "x = 50\n",
    "def func():\n",
    "    global x   \n",
    "    print(f\"X is {x}\")\n",
    "    x = 'NEW VALUE'\n",
    "    print(f\"I JUST LOCALLY CHANGED GLOBAL X TO {x}\")"
   ]
  },
  {
   "cell_type": "code",
   "execution_count": 23,
   "id": "cbaa9202-e407-4c92-9db3-0307fdd225d0",
   "metadata": {},
   "outputs": [
    {
     "name": "stdout",
     "output_type": "stream",
     "text": [
      "X is 50\n",
      "I JUST LOCALLY CHANGED GLOBAL X TO NEW VALUE\n",
      "NEW VALUE\n"
     ]
    }
   ],
   "source": [
    "func()\n",
    "print(x)"
   ]
  },
  {
   "cell_type": "code",
   "execution_count": 24,
   "id": "11cdbbdd-9c9a-4ba4-9f1a-c2026bb5de82",
   "metadata": {},
   "outputs": [
    {
     "name": "stdout",
     "output_type": "stream",
     "text": [
      "NEW VALUE\n"
     ]
    }
   ],
   "source": [
    "x = 50\n",
    "def func(x):\n",
    "    x = 'NEW VALUE'\n",
    "    return x\n",
    "x = func(x)\n",
    "print(x)"
   ]
  },
  {
   "cell_type": "markdown",
   "id": "0f63c31b-6eae-45a0-ae95-642d7cbae7e5",
   "metadata": {},
   "source": [
    "local variable"
   ]
  },
  {
   "cell_type": "code",
   "execution_count": 28,
   "id": "0b6ead29-4ca6-4781-93af-ac00eae8b2d0",
   "metadata": {},
   "outputs": [
    {
     "name": "stdout",
     "output_type": "stream",
     "text": [
      "Area inside function: 15\n"
     ]
    }
   ],
   "source": [
    "def calculate_area():\n",
    "    l = 5   \n",
    "    w = 3    \n",
    "    area = l * w\n",
    "    print(\"Area inside function:\", area)\n",
    "\n",
    "calculate_area()"
   ]
  },
  {
   "cell_type": "code",
   "execution_count": 32,
   "id": "ab5fe3e8-754b-46db-90cb-5e4b263449fb",
   "metadata": {},
   "outputs": [
    {
     "name": "stdout",
     "output_type": "stream",
     "text": [
      "Function1: 10\n",
      "Function2: 20\n"
     ]
    }
   ],
   "source": [
    "def function1():\n",
    "    number = 10\n",
    "    print(\"Function1:\", number)\n",
    "\n",
    "def function2():\n",
    "    number = 20\n",
    "    print(\"Function2:\", number)\n",
    "\n",
    "function1()\n",
    "function2()"
   ]
  },
  {
   "cell_type": "markdown",
   "id": "d0ebf9e2-f2e8-477c-b83d-3c0149f1c3e1",
   "metadata": {},
   "source": [
    "global variable"
   ]
  },
  {
   "cell_type": "code",
   "execution_count": 36,
   "id": "8f5591fe-9ef3-4bd6-b4ae-c6c53e671c9f",
   "metadata": {},
   "outputs": [
    {
     "name": "stdout",
     "output_type": "stream",
     "text": [
      "Inside function: 100\n",
      "Outside function: 100\n"
     ]
    }
   ],
   "source": [
    "x = 100  \n",
    "\n",
    "def show():\n",
    "    print(\"Inside function:\", x)\n",
    "\n",
    "show()\n",
    "print(\"Outside function:\", x)"
   ]
  },
  {
   "cell_type": "code",
   "execution_count": 43,
   "id": "bea1432e-a931-4761-9c04-75b8e778ddda",
   "metadata": {},
   "outputs": [
    {
     "name": "stdout",
     "output_type": "stream",
     "text": [
      "Current score: 20\n"
     ]
    }
   ],
   "source": [
    "score = 0\n",
    "\n",
    "def add_points():\n",
    "    global score\n",
    "    score += 10\n",
    "\n",
    "def show_score():\n",
    "    print(\"Current score:\", score)\n",
    "\n",
    "add_points()\n",
    "add_points()\n",
    "show_score()"
   ]
  },
  {
   "cell_type": "code",
   "execution_count": null,
   "id": "0431dd88-a202-432e-ba2a-3939153d27e8",
   "metadata": {},
   "outputs": [],
   "source": []
  }
 ],
 "metadata": {
  "kernelspec": {
   "display_name": "Python [conda env:base] *",
   "language": "python",
   "name": "conda-base-py"
  },
  "language_info": {
   "codemirror_mode": {
    "name": "ipython",
    "version": 3
   },
   "file_extension": ".py",
   "mimetype": "text/x-python",
   "name": "python",
   "nbconvert_exporter": "python",
   "pygments_lexer": "ipython3",
   "version": "3.13.5"
  }
 },
 "nbformat": 4,
 "nbformat_minor": 5
}
