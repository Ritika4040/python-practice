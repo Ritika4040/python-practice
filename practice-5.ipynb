{
 "cells": [
  {
   "cell_type": "markdown",
   "id": "59f3f0c3-1f30-4327-968f-fcbf24aaf18b",
   "metadata": {},
   "source": [
    "list is python\n"
   ]
  },
  {
   "cell_type": "code",
   "execution_count": 1,
   "id": "60206089-3c3d-436a-aadc-900c77a7aa80",
   "metadata": {},
   "outputs": [],
   "source": [
    "list=[1,2,3,4]"
   ]
  },
  {
   "cell_type": "code",
   "execution_count": 2,
   "id": "b09e5f2f-538c-4f26-a3fc-20a4d45bebe1",
   "metadata": {},
   "outputs": [],
   "source": [
    "list=['string',12.65,5]"
   ]
  },
  {
   "cell_type": "code",
   "execution_count": 3,
   "id": "0c1a444f-a553-4e35-817c-b626340a5e1f",
   "metadata": {},
   "outputs": [
    {
     "data": {
      "text/plain": [
       "3"
      ]
     },
     "execution_count": 3,
     "metadata": {},
     "output_type": "execute_result"
    }
   ],
   "source": [
    "len(list)"
   ]
  },
  {
   "cell_type": "code",
   "execution_count": 11,
   "id": "c01cc4af-554a-4c80-8fed-797f663f563e",
   "metadata": {},
   "outputs": [],
   "source": [
    "list=['one','two','three']"
   ]
  },
  {
   "cell_type": "code",
   "execution_count": 12,
   "id": "d9b44d5e-cdf8-4b1f-853b-1a67695c68d3",
   "metadata": {},
   "outputs": [
    {
     "data": {
      "text/plain": [
       "'one'"
      ]
     },
     "execution_count": 12,
     "metadata": {},
     "output_type": "execute_result"
    }
   ],
   "source": [
    "l[0]"
   ]
  },
  {
   "cell_type": "code",
   "execution_count": 13,
   "id": "7eb71105-9035-45d1-a43b-c10a710f403f",
   "metadata": {},
   "outputs": [
    {
     "data": {
      "text/plain": [
       "['two', 'three']"
      ]
     },
     "execution_count": 13,
     "metadata": {},
     "output_type": "execute_result"
    }
   ],
   "source": [
    "l[1:]"
   ]
  },
  {
   "cell_type": "code",
   "execution_count": 14,
   "id": "ca374f36-7f0c-4f9e-80d5-f08addd2444f",
   "metadata": {},
   "outputs": [],
   "source": [
    "another_list =['four']"
   ]
  },
  {
   "cell_type": "code",
   "execution_count": 16,
   "id": "9a5f2548-d758-4168-94b6-3cfc5400d31e",
   "metadata": {},
   "outputs": [],
   "source": [
    "new_list = list+ another_list"
   ]
  },
  {
   "cell_type": "code",
   "execution_count": 17,
   "id": "e224e480-c4f7-4a19-99d3-4d178980c3e0",
   "metadata": {},
   "outputs": [
    {
     "data": {
      "text/plain": [
       "['one', 'two', 'three', 'four']"
      ]
     },
     "execution_count": 17,
     "metadata": {},
     "output_type": "execute_result"
    }
   ],
   "source": [
    "new_list"
   ]
  },
  {
   "cell_type": "code",
   "execution_count": 18,
   "id": "e10f77aa-0bd5-4637-80d2-f2d04c107f45",
   "metadata": {},
   "outputs": [
    {
     "name": "stdout",
     "output_type": "stream",
     "text": [
      "[1, 2, 3, 4]\n"
     ]
    }
   ],
   "source": [
    "n = [1, 2, 3]\n",
    "n.append(4)\n",
    "print(n)"
   ]
  },
  {
   "cell_type": "code",
   "execution_count": 19,
   "id": "a4b78448-3d60-47a4-89f0-99facdd203c1",
   "metadata": {},
   "outputs": [
    {
     "data": {
      "text/plain": [
       "['a', 'b', 'c']"
      ]
     },
     "execution_count": 19,
     "metadata": {},
     "output_type": "execute_result"
    }
   ],
   "source": [
    "letter = ['a', 'b', 'c', 'd', 'e']\n",
    "letter[:3]"
   ]
  },
  {
   "cell_type": "code",
   "execution_count": 21,
   "id": "cfa66a81-b1f7-4e62-86e2-8d8b4236fcad",
   "metadata": {},
   "outputs": [
    {
     "name": "stdout",
     "output_type": "stream",
     "text": [
      "['dog', 'bird']\n"
     ]
    }
   ],
   "source": [
    "a = ['dog' ,'cat', 'bird']\n",
    "a.remove('cat')\n",
    "print(a)"
   ]
  },
  {
   "cell_type": "code",
   "execution_count": 22,
   "id": "85153934-02ed-4e87-95c0-a5418ca3214e",
   "metadata": {},
   "outputs": [
    {
     "name": "stdout",
     "output_type": "stream",
     "text": [
      "['apple', 'orange', 'banana']\n"
     ]
    }
   ],
   "source": [
    "f = ['apple', 'banana', ]\n",
    "f.insert(1, 'orange')\n",
    "print(f)"
   ]
  },
  {
   "cell_type": "code",
   "execution_count": 25,
   "id": "d69d5ec3-851e-40a8-b61e-c195602a23ce",
   "metadata": {},
   "outputs": [
    {
     "name": "stdout",
     "output_type": "stream",
     "text": [
      "d\n",
      "['a', 'b', 'c']\n"
     ]
    }
   ],
   "source": [
    "i = ['a','b','c','d']\n",
    "removed_i = i.pop()\n",
    "print(removed_i)\n",
    "print(i)"
   ]
  },
  {
   "cell_type": "code",
   "execution_count": 27,
   "id": "09664974-cf98-4f3c-8a76-40dc7501d3fb",
   "metadata": {},
   "outputs": [
    {
     "name": "stdout",
     "output_type": "stream",
     "text": [
      "[1, 2, 5, 6, 8, 9, 9]\n"
     ]
    }
   ],
   "source": [
    "num = [5, 2, 9, 1, 6, 8 ,9]\n",
    "num.sort()\n",
    "print(num)"
   ]
  },
  {
   "cell_type": "code",
   "execution_count": 28,
   "id": "f6bf6597-6c1a-481b-99de-d32198a83e99",
   "metadata": {},
   "outputs": [
    {
     "name": "stdout",
     "output_type": "stream",
     "text": [
      "[50, 40, 30, 20, 10]\n"
     ]
    }
   ],
   "source": [
    "nums = [10, 20, 30, 40, 50]\n",
    "nums.reverse()\n",
    "print(nums)"
   ]
  },
  {
   "cell_type": "code",
   "execution_count": null,
   "id": "ecf1f1cd-c3ba-42a5-9354-c012c1a158cd",
   "metadata": {},
   "outputs": [],
   "source": []
  }
 ],
 "metadata": {
  "kernelspec": {
   "display_name": "Python [conda env:base] *",
   "language": "python",
   "name": "conda-base-py"
  },
  "language_info": {
   "codemirror_mode": {
    "name": "ipython",
    "version": 3
   },
   "file_extension": ".py",
   "mimetype": "text/x-python",
   "name": "python",
   "nbconvert_exporter": "python",
   "pygments_lexer": "ipython3",
   "version": "3.13.5"
  }
 },
 "nbformat": 4,
 "nbformat_minor": 5
}
