{
 "cells": [
  {
   "cell_type": "code",
   "execution_count": 1,
   "id": "e90503bc-a542-4003-8b4f-b9f778fcd11d",
   "metadata": {},
   "outputs": [],
   "source": [
    "def vol(rad):\n",
    "    return (4/3) * 3.14 * (rad ** 3)"
   ]
  },
  {
   "cell_type": "code",
   "execution_count": 5,
   "id": "198a26c7-907a-4b2e-b4ab-e1e78b48d4a2",
   "metadata": {},
   "outputs": [],
   "source": [
    "rad=5"
   ]
  },
  {
   "cell_type": "code",
   "execution_count": 6,
   "id": "2a8753f7-1b99-45e6-9994-241609d61dc1",
   "metadata": {},
   "outputs": [
    {
     "data": {
      "text/plain": [
       "523.3333333333334"
      ]
     },
     "execution_count": 6,
     "metadata": {},
     "output_type": "execute_result"
    }
   ],
   "source": [
    "vol(rad)"
   ]
  },
  {
   "cell_type": "code",
   "execution_count": 14,
   "id": "d964dd80-01ef-4832-b9a1-f85264279e98",
   "metadata": {},
   "outputs": [
    {
     "name": "stdout",
     "output_type": "stream",
     "text": [
      "0\n",
      "1\n",
      "2\n",
      "3\n",
      "4\n"
     ]
    }
   ],
   "source": [
    "for item in range(0,5):\n",
    "    print(item)"
   ]
  },
  {
   "cell_type": "code",
   "execution_count": 19,
   "id": "f1c1a778-1295-4597-8ec0-effc75c3e6dd",
   "metadata": {},
   "outputs": [],
   "source": [
    "def ran_check(num, low, high):\n",
    "    return num in range(low, high+1)"
   ]
  },
  {
   "cell_type": "code",
   "execution_count": 20,
   "id": "7eb6a2d7-1050-4783-b24c-ca2dda0ea187",
   "metadata": {},
   "outputs": [
    {
     "data": {
      "text/plain": [
       "True"
      ]
     },
     "execution_count": 20,
     "metadata": {},
     "output_type": "execute_result"
    }
   ],
   "source": [
    "ran_check(4,2,5)"
   ]
  },
  {
   "cell_type": "code",
   "execution_count": 21,
   "id": "14834fb6-b1fd-4beb-9c64-1c0b9a320206",
   "metadata": {},
   "outputs": [
    {
     "data": {
      "text/plain": [
       "True"
      ]
     },
     "execution_count": 21,
     "metadata": {},
     "output_type": "execute_result"
    }
   ],
   "source": [
    "ran_check(5,2,7)"
   ]
  },
  {
   "cell_type": "code",
   "execution_count": 25,
   "id": "0f87ee35-f736-486a-85a3-d388c1beb991",
   "metadata": {},
   "outputs": [],
   "source": [
    "def ran_check(num,low,high):\n",
    "    \n",
    "    if num in range(low, high+1):\n",
    "        print(f\"{num} is in the range of {low} and {high}\")\n",
    "    else:\n",
    "        print(\"Not in range\")"
   ]
  },
  {
   "cell_type": "code",
   "execution_count": 26,
   "id": "127ff1eb-3d6c-49e6-a08e-389fa89426ef",
   "metadata": {},
   "outputs": [
    {
     "name": "stdout",
     "output_type": "stream",
     "text": [
      "5 is in the range of 2 and 7\n"
     ]
    }
   ],
   "source": [
    "ran_check(5,2,7)"
   ]
  },
  {
   "cell_type": "markdown",
   "id": "9215d665-e4a9-4906-8f37-46a63cf78011",
   "metadata": {},
   "source": [
    "Counting Uppercase and Lowercase Letters in a String"
   ]
  },
  {
   "cell_type": "code",
   "execution_count": 33,
   "id": "70373e52-bcb9-4e57-9f34-95890aa5bf5f",
   "metadata": {},
   "outputs": [],
   "source": [
    "def up_low(s):\n",
    "    lowercase = 0\n",
    "    uppercase = 0\n",
    "    for char in s:\n",
    "        if char.isupper():\n",
    "            uppercase += 1\n",
    "        elif char.islower():\n",
    "            lowercase += 1\n",
    "        else:\n",
    "            pass\n",
    "    print(f\"Original String: {s}\")\n",
    "    print(f\"Lowercase count: {lowercase}\")\n",
    "    print(f\"Uppercase count: {uppercase}\")"
   ]
  },
  {
   "cell_type": "code",
   "execution_count": 34,
   "id": "c1c5c37e-8215-42fc-84ea-b1d7a807034e",
   "metadata": {},
   "outputs": [
    {
     "name": "stdout",
     "output_type": "stream",
     "text": [
      "Original String: Hello Mr.Rogers, How are you this fine Monday?\n",
      "Lowercase count: 31\n",
      "Uppercase count: 5\n"
     ]
    }
   ],
   "source": [
    "s='Hello Mr.Rogers, How are you this fine Monday?'\n",
    "up_low(s)"
   ]
  },
  {
   "cell_type": "markdown",
   "id": "d828df16-5413-45ce-8efe-48a89a3db0a5",
   "metadata": {},
   "source": [
    "Multiplying All Numbers in a List"
   ]
  },
  {
   "cell_type": "code",
   "execution_count": 41,
   "id": "09439956-9f78-4531-a0be-7c4c630dec34",
   "metadata": {},
   "outputs": [],
   "source": [
    "def multiply(numbers):\n",
    "    total = 1\n",
    "    for num in numbers:\n",
    "        total *= num\n",
    "    return total"
   ]
  },
  {
   "cell_type": "code",
   "execution_count": 42,
   "id": "5ce68eb4-1e26-4c0a-96d2-e3220fe7b7de",
   "metadata": {},
   "outputs": [
    {
     "data": {
      "text/plain": [
       "-180"
      ]
     },
     "execution_count": 42,
     "metadata": {},
     "output_type": "execute_result"
    }
   ],
   "source": [
    "multiply([1,2,3,5,-6])"
   ]
  },
  {
   "cell_type": "markdown",
   "id": "66a355c7-1a42-436b-8a00-cab155841d2b",
   "metadata": {},
   "source": [
    "Returning Unique Elements from a List"
   ]
  },
  {
   "cell_type": "code",
   "execution_count": 44,
   "id": "c34a7658-1f6d-45e9-b067-6f24ac7913a1",
   "metadata": {},
   "outputs": [],
   "source": [
    "def unique_list(lst):\n",
    "    return list(set(lst))"
   ]
  },
  {
   "cell_type": "code",
   "execution_count": 45,
   "id": "a521c78f-7d6f-422f-96af-549f2e1c3150",
   "metadata": {},
   "outputs": [
    {
     "data": {
      "text/plain": [
       "[1, 2, 3]"
      ]
     },
     "execution_count": 45,
     "metadata": {},
     "output_type": "execute_result"
    }
   ],
   "source": [
    "unique_list([1,1,1,1,2,2,3,])"
   ]
  },
  {
   "cell_type": "markdown",
   "id": "27357cfa-d4e9-4837-b206-023abc4d898f",
   "metadata": {},
   "source": [
    "Checking for Palindromes"
   ]
  },
  {
   "cell_type": "code",
   "execution_count": 48,
   "id": "229481cc-1a64-4d8b-807e-484b4476e820",
   "metadata": {},
   "outputs": [],
   "source": [
    "def palindrome(s):\n",
    "    s = s.replace(' ', '')\n",
    "    return s == s[::-1]"
   ]
  },
  {
   "cell_type": "code",
   "execution_count": 50,
   "id": "83f130e3-d711-4ac8-a087-51cb8cba5839",
   "metadata": {},
   "outputs": [
    {
     "data": {
      "text/plain": [
       "True"
      ]
     },
     "execution_count": 50,
     "metadata": {},
     "output_type": "execute_result"
    }
   ],
   "source": [
    "palindrome('nurses run')"
   ]
  },
  {
   "cell_type": "code",
   "execution_count": 51,
   "id": "5283db4b-3d68-4265-bb18-9e38073a75a2",
   "metadata": {},
   "outputs": [
    {
     "data": {
      "text/plain": [
       "True"
      ]
     },
     "execution_count": 51,
     "metadata": {},
     "output_type": "execute_result"
    }
   ],
   "source": [
    "palindrome('nu rs es ru n')"
   ]
  },
  {
   "cell_type": "code",
   "execution_count": null,
   "id": "5d023260-1c96-4855-ab9e-8aca1bb1ac46",
   "metadata": {},
   "outputs": [],
   "source": []
  }
 ],
 "metadata": {
  "kernelspec": {
   "display_name": "Python [conda env:base] *",
   "language": "python",
   "name": "conda-base-py"
  },
  "language_info": {
   "codemirror_mode": {
    "name": "ipython",
    "version": 3
   },
   "file_extension": ".py",
   "mimetype": "text/x-python",
   "name": "python",
   "nbconvert_exporter": "python",
   "pygments_lexer": "ipython3",
   "version": "3.13.5"
  }
 },
 "nbformat": 4,
 "nbformat_minor": 5
}
