{
 "cells": [
  {
   "cell_type": "code",
   "execution_count": 1,
   "id": "b07212d2-64f6-47db-b65e-316876e50f25",
   "metadata": {},
   "outputs": [
    {
     "name": "stdout",
     "output_type": "stream",
     "text": [
      "HELLO WORLD\n"
     ]
    }
   ],
   "source": [
    "n='hello world'\n",
    "cmd=n.upper()\n",
    "print(cmd)"
   ]
  },
  {
   "cell_type": "code",
   "execution_count": 2,
   "id": "c000e1e6-a46c-41c6-bc2c-2fed6f49372d",
   "metadata": {},
   "outputs": [
    {
     "data": {
      "text/plain": [
       "'H'"
      ]
     },
     "execution_count": 2,
     "metadata": {},
     "output_type": "execute_result"
    }
   ],
   "source": [
    "n='hello world'\n",
    "n[0].upper()"
   ]
  },
  {
   "cell_type": "code",
   "execution_count": 7,
   "id": "9ef55fd8-0cc9-43d4-be73-a9dda32b9e05",
   "metadata": {},
   "outputs": [
    {
     "data": {
      "text/plain": [
       "'HELLO '"
      ]
     },
     "execution_count": 7,
     "metadata": {},
     "output_type": "execute_result"
    }
   ],
   "source": [
    "n='hello world'\n",
    "n[0:-5].upper()"
   ]
  },
  {
   "cell_type": "code",
   "execution_count": 16,
   "id": "5dc7482a-fefa-4832-af6a-979210f99c8a",
   "metadata": {},
   "outputs": [
    {
     "data": {
      "text/plain": [
       "'H'"
      ]
     },
     "execution_count": 16,
     "metadata": {},
     "output_type": "execute_result"
    }
   ],
   "source": [
    "n='hello world'\n",
    "n[0:5:7].upper()"
   ]
  },
  {
   "cell_type": "code",
   "execution_count": 17,
   "id": "6653e1c1-4556-4242-88a5-8177e99b2ce3",
   "metadata": {},
   "outputs": [
    {
     "name": "stdout",
     "output_type": "stream",
     "text": [
      "Hello World\n"
     ]
    }
   ],
   "source": [
    "n='hello world'\n",
    "cmd=n[0].upper()+n[1:6]+n[6].upper()+n[7:]\n",
    "print(cmd)"
   ]
  },
  {
   "cell_type": "code",
   "execution_count": 21,
   "id": "188f2c35-9b03-40bd-8236-570496e06289",
   "metadata": {},
   "outputs": [
    {
     "data": {
      "text/plain": [
       "['e', 'i', 'l', 'n', 's', 't']"
      ]
     },
     "execution_count": 21,
     "metadata": {},
     "output_type": "execute_result"
    }
   ],
   "source": [
    "st_1='listen'\n",
    "sorted(st_1)"
   ]
  },
  {
   "cell_type": "code",
   "execution_count": 22,
   "id": "23286ae9-aa11-4421-92cd-1d4206caef38",
   "metadata": {},
   "outputs": [
    {
     "data": {
      "text/plain": [
       "['e', 'i', 'l', 'n', 's', 't']"
      ]
     },
     "execution_count": 22,
     "metadata": {},
     "output_type": "execute_result"
    }
   ],
   "source": [
    "st_2='silent'\n",
    "sorted(st_2)"
   ]
  },
  {
   "cell_type": "code",
   "execution_count": 24,
   "id": "247bc37c-2244-410c-9c35-d4b25ef6bf94",
   "metadata": {},
   "outputs": [
    {
     "data": {
      "text/plain": [
       "True"
      ]
     },
     "execution_count": 24,
     "metadata": {},
     "output_type": "execute_result"
    }
   ],
   "source": [
    "sorted(st_1) == sorted(st_2)"
   ]
  },
  {
   "cell_type": "code",
   "execution_count": 25,
   "id": "d4ed3fba-e920-4fba-8107-94eaff37b9a4",
   "metadata": {},
   "outputs": [
    {
     "name": "stdout",
     "output_type": "stream",
     "text": [
      "True\n"
     ]
    }
   ],
   "source": [
    "st_1='listen'\n",
    "st_2='silent'\n",
    "if sorted(st_1) == sorted(st_2):\n",
    "    print('True')"
   ]
  },
  {
   "cell_type": "code",
   "execution_count": 26,
   "id": "d9773ebb-549b-44a0-a6c9-7429d52183cd",
   "metadata": {},
   "outputs": [
    {
     "name": "stdin",
     "output_type": "stream",
     "text": [
      " listen\n",
      " silent\n"
     ]
    },
    {
     "name": "stdout",
     "output_type": "stream",
     "text": [
      "True\n"
     ]
    }
   ],
   "source": [
    "st_1=input()\n",
    "st_2=input()\n",
    "if sorted(st_1) == sorted(st_2):\n",
    "    print('True')"
   ]
  },
  {
   "cell_type": "code",
   "execution_count": 28,
   "id": "289e0367-1606-4af3-9c94-1a45c33dddbe",
   "metadata": {},
   "outputs": [
    {
     "name": "stdin",
     "output_type": "stream",
     "text": [
      " listen,silent\n"
     ]
    },
    {
     "name": "stdout",
     "output_type": "stream",
     "text": [
      "['listen,silent']\n"
     ]
    }
   ],
   "source": [
    "s=input()\n",
    "cmd=s.split()\n",
    "print (cmd)\n"
   ]
  },
  {
   "cell_type": "code",
   "execution_count": 31,
   "id": "ffccc6a5-73eb-4156-be5c-21c421f6a485",
   "metadata": {},
   "outputs": [
    {
     "name": "stdin",
     "output_type": "stream",
     "text": [
      " listen,silent\n"
     ]
    },
    {
     "name": "stdout",
     "output_type": "stream",
     "text": [
      "True\n"
     ]
    }
   ],
   "source": [
    "s=input()\n",
    "cmd=s.split(',')\n",
    "if sorted(cmd[0]) == sorted(cmd[1]):\n",
    "    print('True')"
   ]
  },
  {
   "cell_type": "code",
   "execution_count": null,
   "id": "ac810951-df4e-4108-9cbd-75d619f9fc84",
   "metadata": {},
   "outputs": [],
   "source": []
  }
 ],
 "metadata": {
  "kernelspec": {
   "display_name": "Python [conda env:base] *",
   "language": "python",
   "name": "conda-base-py"
  },
  "language_info": {
   "codemirror_mode": {
    "name": "ipython",
    "version": 3
   },
   "file_extension": ".py",
   "mimetype": "text/x-python",
   "name": "python",
   "nbconvert_exporter": "python",
   "pygments_lexer": "ipython3",
   "version": "3.13.5"
  }
 },
 "nbformat": 4,
 "nbformat_minor": 5
}
