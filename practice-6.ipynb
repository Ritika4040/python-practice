{
 "cells": [
  {
   "cell_type": "markdown",
   "id": "86a30d78-ba3d-4ba4-b288-83e2b1d164d5",
   "metadata": {},
   "source": [
    "Dictionaries"
   ]
  },
  {
   "cell_type": "code",
   "execution_count": 1,
   "id": "92989fb0-377f-4782-99db-4d28dd516b2a",
   "metadata": {},
   "outputs": [],
   "source": [
    "my_dict={'key1': 'value1','key2':'value2'}"
   ]
  },
  {
   "cell_type": "code",
   "execution_count": 2,
   "id": "34b50c34-2681-42b4-ab8f-1abc81c85cc2",
   "metadata": {},
   "outputs": [
    {
     "data": {
      "text/plain": [
       "{'key1': 'value1', 'key2': 'value2'}"
      ]
     },
     "execution_count": 2,
     "metadata": {},
     "output_type": "execute_result"
    }
   ],
   "source": [
    "my_dict"
   ]
  },
  {
   "cell_type": "code",
   "execution_count": 4,
   "id": "21dec273-d17c-4918-a4e5-e8d850400a6a",
   "metadata": {},
   "outputs": [
    {
     "data": {
      "text/plain": [
       "'value1'"
      ]
     },
     "execution_count": 4,
     "metadata": {},
     "output_type": "execute_result"
    }
   ],
   "source": [
    "my_dict['key1']"
   ]
  },
  {
   "cell_type": "code",
   "execution_count": 7,
   "id": "5d688bd6-4473-4dfe-a5d2-951147ef9ccb",
   "metadata": {},
   "outputs": [],
   "source": [
    "price={'apple':100,'orange':50,'mango':60.8}"
   ]
  },
  {
   "cell_type": "code",
   "execution_count": 8,
   "id": "c8e1d625-f6e7-4d83-b950-9c27de12fb31",
   "metadata": {},
   "outputs": [
    {
     "data": {
      "text/plain": [
       "100"
      ]
     },
     "execution_count": 8,
     "metadata": {},
     "output_type": "execute_result"
    }
   ],
   "source": [
    "price['apple']"
   ]
  },
  {
   "cell_type": "code",
   "execution_count": 9,
   "id": "8fb4783e-0360-47b5-ac1d-3a66fcc9e7df",
   "metadata": {},
   "outputs": [],
   "source": [
    "d={'a':10.0,'a2':[1,2,3],'a3':{'inside_a3':1000}}"
   ]
  },
  {
   "cell_type": "code",
   "execution_count": 10,
   "id": "72da4844-837f-4e97-80b1-1a27b7d00113",
   "metadata": {},
   "outputs": [
    {
     "data": {
      "text/plain": [
       "[1, 2, 3]"
      ]
     },
     "execution_count": 10,
     "metadata": {},
     "output_type": "execute_result"
    }
   ],
   "source": [
    "d['a2']"
   ]
  },
  {
   "cell_type": "code",
   "execution_count": 11,
   "id": "44c7f06b-c573-40c4-aab2-980ab3cc943d",
   "metadata": {},
   "outputs": [
    {
     "data": {
      "text/plain": [
       "2"
      ]
     },
     "execution_count": 11,
     "metadata": {},
     "output_type": "execute_result"
    }
   ],
   "source": [
    "d['a2'][1]"
   ]
  },
  {
   "cell_type": "code",
   "execution_count": 17,
   "id": "eac28f9c-4627-4f87-9aed-931c55c801e8",
   "metadata": {},
   "outputs": [],
   "source": [
    "a={'key':['a','b','c']}"
   ]
  },
  {
   "cell_type": "code",
   "execution_count": 20,
   "id": "5169d996-7d72-49fd-918a-11d6582e1543",
   "metadata": {},
   "outputs": [
    {
     "data": {
      "text/plain": [
       "'C'"
      ]
     },
     "execution_count": 20,
     "metadata": {},
     "output_type": "execute_result"
    }
   ],
   "source": [
    "a['key'][2].upper()"
   ]
  },
  {
   "cell_type": "code",
   "execution_count": 23,
   "id": "a381eefe-0ec5-464e-9acc-5b9b4e24c247",
   "metadata": {},
   "outputs": [],
   "source": [
    "a['key1']=200"
   ]
  },
  {
   "cell_type": "code",
   "execution_count": 24,
   "id": "936e1fbe-89c2-4202-8442-d66c30679268",
   "metadata": {},
   "outputs": [
    {
     "data": {
      "text/plain": [
       "{'key': ['a', 'b', 'c'], 'key1': 200}"
      ]
     },
     "execution_count": 24,
     "metadata": {},
     "output_type": "execute_result"
    }
   ],
   "source": [
    "a"
   ]
  },
  {
   "cell_type": "markdown",
   "id": "cc182b76-2b21-4e08-88cd-b1820cc50e58",
   "metadata": {},
   "source": [
    "some mini challenges"
   ]
  },
  {
   "cell_type": "code",
   "execution_count": 26,
   "id": "dfd529dd-bedc-43ff-a99e-93fb7613ecd1",
   "metadata": {},
   "outputs": [
    {
     "name": "stdout",
     "output_type": "stream",
     "text": [
      "['b', 'y']\n"
     ]
    }
   ],
   "source": [
    "a = {'b': 't', 'y': 2}\n",
    "print(list(a.keys()))"
   ]
  },
  {
   "cell_type": "code",
   "execution_count": 27,
   "id": "8602453a-b66a-4e0d-b672-c901a956dd60",
   "metadata": {},
   "outputs": [
    {
     "name": "stdout",
     "output_type": "stream",
     "text": [
      "{'x': 1, 'y': 2, 'e': 3, 'z': 4}\n"
     ]
    }
   ],
   "source": [
    "dict1 = {'x': 1, 'y': 2}\n",
    "dict2 = {'e': 3, 'z': 4}\n",
    "dict1.update(dict2)\n",
    "print(dict1)"
   ]
  },
  {
   "cell_type": "code",
   "execution_count": 32,
   "id": "cd06199d-2891-482d-a736-bb38a97d73ae",
   "metadata": {},
   "outputs": [
    {
     "name": "stdout",
     "output_type": "stream",
     "text": [
      "10\n",
      "15\n"
     ]
    }
   ],
   "source": [
    "p= {\n",
    "    'ram': {'age': 10, 'city': 'india'},\n",
    "    'rom': {'age': 15, 'city': 'india'}\n",
    "}\n",
    "print(p['ram']['age'])\n",
    "print(p['rom']['age'])\n"
   ]
  },
  {
   "cell_type": "code",
   "execution_count": 33,
   "id": "a07f53a9-b315-40de-a718-9b0f87cf2d03",
   "metadata": {},
   "outputs": [
    {
     "name": "stdout",
     "output_type": "stream",
     "text": [
      "{1: 'a', 2: 'b', 3: 'c'}\n"
     ]
    }
   ],
   "source": [
    "main = {'a': 1, 'b': 2, 'c': 3}\n",
    "new = {v: k for k, v in main.items()}\n",
    "print(new)"
   ]
  },
  {
   "cell_type": "code",
   "execution_count": 34,
   "id": "2898da9b-c222-4878-b898-83f18c223151",
   "metadata": {},
   "outputs": [
    {
     "name": "stdout",
     "output_type": "stream",
     "text": [
      "270\n"
     ]
    }
   ],
   "source": [
    "d = {'math': 90, 'english': 85, 'science': 95}\n",
    "t = sum(d.values())\n",
    "print(t)"
   ]
  },
  {
   "cell_type": "markdown",
   "id": "756241b4-6ace-4290-b8e0-7f1a563b464b",
   "metadata": {},
   "source": [
    "To change list into dictionary"
   ]
  },
  {
   "cell_type": "code",
   "execution_count": 37,
   "id": "4934c1f0-965f-40c0-aada-4f6101abc62f",
   "metadata": {},
   "outputs": [
    {
     "name": "stdout",
     "output_type": "stream",
     "text": [
      "{'id': 101, 'name': 'ram', 'age': 25}\n"
     ]
    }
   ],
   "source": [
    "keys = ['id', 'name', 'age']\n",
    "values = [101, 'ram', 25]\n",
    "r = dict(zip(keys, values))\n",
    "print(r)"
   ]
  },
  {
   "cell_type": "code",
   "execution_count": 45,
   "id": "2d01b609-47a9-4fb6-a6c7-e3d9ecef575f",
   "metadata": {},
   "outputs": [
    {
     "name": "stdout",
     "output_type": "stream",
     "text": [
      "['ram', 'shyam']\n"
     ]
    }
   ],
   "source": [
    "users = [\n",
    "    {'name': 'ram', 'country': 'usa'},\n",
    "    {'name': 'shyam', 'country': 'usa'},\n",
    "    {'name': 'rom', 'country': 'india'},\n",
    "]\n",
    "i = [user['name']\n",
    "     for user in users\n",
    "      if user['country'] == 'usa']\n",
    "print(i)"
   ]
  },
  {
   "cell_type": "code",
   "execution_count": 49,
   "id": "697faa52-dff7-4944-9ede-cdbb2a1efe8b",
   "metadata": {},
   "outputs": [
    {
     "name": "stdout",
     "output_type": "stream",
     "text": [
      "Age found\n"
     ]
    }
   ],
   "source": [
    "p = {'name': 'ron', 'age': 30}\n",
    "if 'age' in p:\n",
    "    print(\"Age found\")\n",
    "else:\n",
    "    print(\"Age not found\")"
   ]
  },
  {
   "cell_type": "code",
   "execution_count": null,
   "id": "276808e8-4cbb-4941-8a68-fda29c2e595a",
   "metadata": {},
   "outputs": [],
   "source": []
  }
 ],
 "metadata": {
  "kernelspec": {
   "display_name": "Python [conda env:base] *",
   "language": "python",
   "name": "conda-base-py"
  },
  "language_info": {
   "codemirror_mode": {
    "name": "ipython",
    "version": 3
   },
   "file_extension": ".py",
   "mimetype": "text/x-python",
   "name": "python",
   "nbconvert_exporter": "python",
   "pygments_lexer": "ipython3",
   "version": "3.13.5"
  }
 },
 "nbformat": 4,
 "nbformat_minor": 5
}
