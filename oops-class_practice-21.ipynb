{
 "cells": [
  {
   "cell_type": "raw",
   "id": "4f2b396f-6ffe-49a5-8ff3-af82ca55e452",
   "metadata": {},
   "source": [
    "OOP allows users to create their own objects with custom methods and attributes.These methods act as functions that use information about the object as well as the object itself to return results or modify the current object. For instance, calling .sort on a list edits the list in place. Examples include appending to a to-do list or counting occurrences of an element in a tuple."
   ]
  },
  {
   "cell_type": "markdown",
   "id": "20d9cdf8-86ac-4262-8409-dadd5eaf69dc",
   "metadata": {},
   "source": [
    "OOP allows users to create their own objects.The general format can be confusing at first, especially due to the use of the self keyword, whose usefulness may not be immediately clear to beginners. However, OOP enables us to write repeatable and organized code that is flexible and scalable."
   ]
  },
  {
   "cell_type": "markdown",
   "id": "307d76d4-b3bc-4004-900e-e7153837f8d6",
   "metadata": {},
   "source": [
    " For larger Python scripts, functions alone are insufficient for organization and repeatability. Commonly repeated tasks and objects can be defined with OOP to create more usable code, especially across organizations."
   ]
  },
  {
   "cell_type": "raw",
   "id": "c03ad1fe-944e-487b-a51b-39de94f704e9",
   "metadata": {},
   "source": [
    "syntax"
   ]
  },
  {
   "cell_type": "markdown",
   "id": "751a023f-2b1c-4047-af25-08c2dcd08a4f",
   "metadata": {},
   "source": [
    "class NameOfClass():\n",
    "      def_init_(self,param1,param2):\n",
    "         self.param1=param1\n",
    "         self.param2=param2\n",
    "\n",
    "\n",
    "def some_method(self):\n",
    "    *perform some action\n",
    "    print(self.param1)"
   ]
  },
  {
   "cell_type": "markdown",
   "id": "e904d00f-833e-487c-8fb3-54d29091a685",
   "metadata": {},
   "source": [
    "One special method is the __init__ method, which initializes an instance of the object. It takes the self parameter along with other parameters you want to pass when creating an instance."
   ]
  },
  {
   "cell_type": "raw",
   "id": "67ea4e0f-7780-4feb-8051-ade1f04bc7a5",
   "metadata": {},
   "source": [
    "1.Object-oriented programming (OOP) allows programmers to create custom objects with methods and attributes.\n",
    "2.Methods operate on the object itself, either returning results or modifying the object.\n",
    "3.The class keyword is used to define new object types, often called classes.\n",
    "4.The __init__ method initializes new instances, using the self keyword to link attributes to the object instance."
   ]
  },
  {
   "cell_type": "markdown",
   "id": "c4766946-e916-4cbb-8a33-bd9af5b9ff7c",
   "metadata": {},
   "source": [
    "lecture-2 "
   ]
  },
  {
   "cell_type": "raw",
   "id": "568d3a95-1415-4f7c-ba6c-1aeba0782746",
   "metadata": {},
   "source": [
    "class keyword"
   ]
  },
  {
   "cell_type": "code",
   "execution_count": 3,
   "id": "912d7d1f-6f5d-40ea-b7a2-72ef66a6f5a9",
   "metadata": {},
   "outputs": [],
   "source": [
    "mylist = [1, 2, 3]\n",
    "myset = set()"
   ]
  },
  {
   "cell_type": "code",
   "execution_count": 6,
   "id": "0ecf3317-37d9-4395-bd11-e10de19bb490",
   "metadata": {},
   "outputs": [
    {
     "data": {
      "text/plain": [
       "set"
      ]
     },
     "execution_count": 6,
     "metadata": {},
     "output_type": "execute_result"
    }
   ],
   "source": [
    "type(myset)"
   ]
  },
  {
   "cell_type": "code",
   "execution_count": 7,
   "id": "2b7e8a17-6372-4866-ac06-e1c5c63fa04d",
   "metadata": {},
   "outputs": [
    {
     "data": {
      "text/plain": [
       "list"
      ]
     },
     "execution_count": 7,
     "metadata": {},
     "output_type": "execute_result"
    }
   ],
   "source": [
    "type(mylist)"
   ]
  },
  {
   "cell_type": "code",
   "execution_count": 8,
   "id": "9a94fb6b-5d45-4512-b31a-760ab7f2d690",
   "metadata": {},
   "outputs": [],
   "source": [
    "class Sample:\n",
    "    pass"
   ]
  },
  {
   "cell_type": "markdown",
   "id": "c1f5dbd2-54d9-43fa-8953-497af8ffd03c",
   "metadata": {},
   "source": [
    "the class keyword to create our own user-defined objects. The class acts as a blueprint that defines the nature of a future object. From classes, we can construct instances, which are specific objects created from a particular class."
   ]
  },
  {
   "cell_type": "code",
   "execution_count": 9,
   "id": "a3205a2e-a227-451b-bf99-e66b50d420aa",
   "metadata": {},
   "outputs": [],
   "source": [
    "my_sample = Sample()"
   ]
  },
  {
   "cell_type": "code",
   "execution_count": 10,
   "id": "ef09c93d-9469-4a60-b071-76653f8947d0",
   "metadata": {},
   "outputs": [
    {
     "data": {
      "text/plain": [
       "__main__.Sample"
      ]
     },
     "execution_count": 10,
     "metadata": {},
     "output_type": "execute_result"
    }
   ],
   "source": [
    "type(my_sample)"
   ]
  },
  {
   "cell_type": "code",
   "execution_count": 11,
   "id": "2b363026-c698-4537-9f28-f35ad1917719",
   "metadata": {},
   "outputs": [],
   "source": [
    "class Dog:\n",
    "    def __init__(self, breed):\n",
    "        self.breed = breed"
   ]
  },
  {
   "cell_type": "code",
   "execution_count": 12,
   "id": "bb1579da-6dc1-4a4a-99f3-918c7a79a58b",
   "metadata": {},
   "outputs": [],
   "source": [
    "my_dog = Dog('Lab')"
   ]
  },
  {
   "cell_type": "code",
   "execution_count": 13,
   "id": "827d80e6-0359-4209-bfc5-41c60ea430a7",
   "metadata": {},
   "outputs": [
    {
     "data": {
      "text/plain": [
       "__main__.Dog"
      ]
     },
     "execution_count": 13,
     "metadata": {},
     "output_type": "execute_result"
    }
   ],
   "source": [
    "type(my_dog)"
   ]
  },
  {
   "cell_type": "code",
   "execution_count": 14,
   "id": "e24571c1-b0e6-441e-8de7-d505d0a13c7a",
   "metadata": {},
   "outputs": [],
   "source": [
    "class Dog:\n",
    "    def __init__(self, mybreed):\n",
    "        self.breed = mybreed"
   ]
  },
  {
   "cell_type": "code",
   "execution_count": 15,
   "id": "9cb387c2-0ffd-477b-a56f-7d339ef9606c",
   "metadata": {},
   "outputs": [],
   "source": [
    "my_dog = Dog('Husky')"
   ]
  },
  {
   "cell_type": "code",
   "execution_count": 16,
   "id": "21f35020-dc4c-42e8-8f64-6a5b1f28d4d1",
   "metadata": {},
   "outputs": [],
   "source": [
    "class Dog:\n",
    "    def __init__(self, breed):\n",
    "        self.breed = breed"
   ]
  },
  {
   "cell_type": "code",
   "execution_count": 19,
   "id": "6c2b9fc1-fe29-4e2e-b9ee-3c3c581f7ff1",
   "metadata": {},
   "outputs": [],
   "source": [
    "class Dog:\n",
    "    def __init__(self, breed, name, spots):\n",
    "        self.breed = breed\n",
    "        self.name = name\n",
    "        self.spots = spots  # Boolean: True or False"
   ]
  },
  {
   "cell_type": "code",
   "execution_count": 20,
   "id": "b179c74d-c30c-49e8-92d0-4a95a76e31bc",
   "metadata": {},
   "outputs": [],
   "source": [
    "my_dog = Dog('Lab', 'Sammy', False)"
   ]
  },
  {
   "cell_type": "code",
   "execution_count": 24,
   "id": "443e1ff3-3743-4825-ae53-46cdb2fe1e38",
   "metadata": {},
   "outputs": [
    {
     "data": {
      "text/plain": [
       "'no spots'"
      ]
     },
     "execution_count": 24,
     "metadata": {},
     "output_type": "execute_result"
    }
   ],
   "source": [
    "my_dog.breed\n",
    "my_dog.name\n",
    "my_dog.spots"
   ]
  },
  {
   "cell_type": "code",
   "execution_count": 25,
   "id": "d122a94a-04d6-4d27-9083-92690eb93833",
   "metadata": {},
   "outputs": [],
   "source": [
    "my_dog = Dog('Lab', 'Sammy', 'no spots')"
   ]
  },
  {
   "cell_type": "raw",
   "id": "045bad57-4d51-4a33-b602-9af628687ba2",
   "metadata": {},
   "source": [
    "1.The class keyword is used in Python to create user-defined objects, serving as blueprints for future objects.\n",
    "2.The __init__ method acts as a constructor and is called automatically when an instance of the class is created.\n",
    "3.The self keyword refers to the instance of the object itself and is used to assign attributes.\n",
    "4.Attributes are characteristics of an object and can be of various data types, such as strings or Booleans."
   ]
  }
 ],
 "metadata": {
  "kernelspec": {
   "display_name": "Python [conda env:base] *",
   "language": "python",
   "name": "conda-base-py"
  },
  "language_info": {
   "codemirror_mode": {
    "name": "ipython",
    "version": 3
   },
   "file_extension": ".py",
   "mimetype": "text/x-python",
   "name": "python",
   "nbconvert_exporter": "python",
   "pygments_lexer": "ipython3",
   "version": "3.13.5"
  }
 },
 "nbformat": 4,
 "nbformat_minor": 5
}
