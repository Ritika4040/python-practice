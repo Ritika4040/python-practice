{
 "cells": [
  {
   "cell_type": "code",
   "execution_count": 1,
   "id": "0157caf2-604c-458a-906f-96353cea2194",
   "metadata": {},
   "outputs": [
    {
     "data": {
      "text/plain": [
       "5"
      ]
     },
     "execution_count": 1,
     "metadata": {},
     "output_type": "execute_result"
    }
   ],
   "source": [
    "2+3"
   ]
  },
  {
   "cell_type": "code",
   "execution_count": 2,
   "id": "53985ebd-3727-4764-9060-870cd5a7c0ba",
   "metadata": {},
   "outputs": [
    {
     "name": "stdout",
     "output_type": "stream",
     "text": [
      "hello\n",
      "9\n"
     ]
    }
   ],
   "source": [
    "print(\"hello\")\n",
    "print(1+8)"
   ]
  },
  {
   "cell_type": "code",
   "execution_count": 3,
   "id": "bda5a038-0df1-43ed-93a6-d03ec1098729",
   "metadata": {},
   "outputs": [
    {
     "name": "stdout",
     "output_type": "stream",
     "text": [
      "1\n",
      "2\n",
      "3\n",
      "4\n",
      "5\n",
      "6\n",
      "7\n",
      "8\n"
     ]
    }
   ],
   "source": [
    "for i in range(1,9):\n",
    "    print(i)"
   ]
  },
  {
   "cell_type": "code",
   "execution_count": 5,
   "id": "f077465d-9ea4-41c0-be80-463abbd61f7e",
   "metadata": {},
   "outputs": [
    {
     "name": "stdin",
     "output_type": "stream",
     "text": [
      "Enter number =   25\n"
     ]
    },
    {
     "name": "stdout",
     "output_type": "stream",
     "text": [
      "odd\n"
     ]
    }
   ],
   "source": [
    "x=int(input(\"Enter number =  \"))\n",
    "if x % 2==0:\n",
    "    print(\"Even\")\n",
    "else:\n",
    "    print(\"odd\")\n",
    "    "
   ]
  },
  {
   "cell_type": "code",
   "execution_count": 7,
   "id": "c13d06a7-7a18-4b11-9083-418728dac1b4",
   "metadata": {},
   "outputs": [
    {
     "name": "stdout",
     "output_type": "stream",
     "text": [
      "5\n",
      "10\n",
      "15\n",
      "20\n",
      "25\n",
      "30\n",
      "35\n",
      "40\n",
      "45\n",
      "50\n"
     ]
    }
   ],
   "source": [
    "for i in range(1,11):\n",
    "    print(5*(i))"
   ]
  },
  {
   "cell_type": "code",
   "execution_count": 13,
   "id": "3014e90d-def7-431a-83c9-bc37b6e26159",
   "metadata": {},
   "outputs": [
    {
     "ename": "IndentationError",
     "evalue": "expected an indented block after 'if' statement on line 4 (3440088541.py, line 5)",
     "output_type": "error",
     "traceback": [
      "\u001b[1;36m  Cell \u001b[1;32mIn[13], line 5\u001b[1;36m\u001b[0m\n\u001b[1;33m    y.append(i)\u001b[0m\n\u001b[1;37m    ^\u001b[0m\n\u001b[1;31mIndentationError\u001b[0m\u001b[1;31m:\u001b[0m expected an indented block after 'if' statement on line 4\n"
     ]
    }
   ],
   "source": [
    "y=[]\n",
    "for i in range(0,101):\n",
    "    print(i)\n",
    "if i%3==0:\n",
    "    y.append(i)\n",
    "print(y)"
   ]
  },
  {
   "cell_type": "code",
   "execution_count": 16,
   "id": "b11a4456-97e3-42b7-8e12-d20e38e13c1c",
   "metadata": {},
   "outputs": [
    {
     "name": "stdout",
     "output_type": "stream",
     "text": [
      "0\n",
      "1\n",
      "2\n",
      "3\n",
      "4\n",
      "5\n",
      "6\n",
      "7\n",
      "8\n",
      "9\n",
      "10\n",
      "11\n",
      "12\n",
      "13\n",
      "14\n",
      "15\n",
      "16\n",
      "17\n",
      "18\n",
      "19\n",
      "20\n",
      "21\n",
      "22\n",
      "23\n",
      "24\n",
      "25\n",
      "26\n",
      "27\n",
      "28\n",
      "29\n",
      "30\n",
      "31\n",
      "32\n",
      "33\n",
      "34\n",
      "35\n",
      "36\n",
      "37\n",
      "38\n",
      "39\n",
      "40\n",
      "41\n",
      "42\n",
      "43\n",
      "44\n",
      "45\n",
      "46\n",
      "47\n",
      "48\n",
      "49\n",
      "50\n",
      "51\n",
      "52\n",
      "53\n",
      "54\n",
      "55\n",
      "56\n",
      "57\n",
      "58\n",
      "59\n",
      "60\n",
      "61\n",
      "62\n",
      "63\n",
      "64\n",
      "65\n",
      "66\n",
      "67\n",
      "68\n",
      "69\n",
      "70\n",
      "71\n",
      "72\n",
      "73\n",
      "74\n",
      "75\n",
      "76\n",
      "77\n",
      "78\n",
      "79\n",
      "80\n",
      "81\n",
      "82\n",
      "83\n",
      "84\n",
      "85\n",
      "86\n",
      "87\n",
      "88\n",
      "89\n",
      "90\n",
      "91\n",
      "92\n",
      "93\n",
      "94\n",
      "95\n",
      "96\n",
      "97\n",
      "98\n",
      "99\n",
      "100\n",
      "[0, 3, 6, 9, 12, 15, 18, 21, 24, 27, 30, 33, 36, 39, 42, 45, 48, 51, 54, 57, 60, 63, 66, 69, 72, 75, 78, 81, 84, 87, 90, 93, 96, 99]\n"
     ]
    }
   ],
   "source": [
    "y=[]\n",
    "for i in range(0,101):\n",
    "    print(i)\n",
    "    if i%3==0:\n",
    "      y.append(i)\n",
    "print(y)"
   ]
  },
  {
   "cell_type": "code",
   "execution_count": 1,
   "id": "cd6fa867-5acf-481c-8ec5-6ce809a21fe4",
   "metadata": {},
   "outputs": [
    {
     "name": "stdout",
     "output_type": "stream",
     "text": [
      "0\n",
      "1\n",
      "2\n",
      "3\n",
      "4\n",
      "5\n",
      "6\n",
      "7\n",
      "8\n",
      "9\n",
      "10\n",
      "11\n",
      "12\n",
      "13\n",
      "14\n",
      "15\n",
      "16\n",
      "17\n",
      "18\n",
      "19\n",
      "20\n",
      "21\n",
      "22\n",
      "23\n",
      "24\n",
      "25\n",
      "26\n",
      "27\n",
      "28\n",
      "29\n",
      "30\n",
      "31\n",
      "32\n",
      "33\n",
      "34\n",
      "35\n",
      "36\n",
      "37\n",
      "38\n",
      "39\n",
      "40\n",
      "41\n",
      "42\n",
      "43\n",
      "44\n",
      "45\n",
      "46\n",
      "47\n",
      "48\n",
      "49\n",
      "50\n",
      "51\n",
      "52\n",
      "53\n",
      "54\n",
      "55\n",
      "56\n",
      "57\n",
      "58\n",
      "59\n",
      "60\n",
      "61\n",
      "62\n",
      "63\n",
      "64\n",
      "65\n",
      "66\n",
      "67\n",
      "68\n",
      "69\n",
      "70\n",
      "71\n",
      "72\n",
      "73\n",
      "74\n",
      "75\n",
      "76\n",
      "77\n",
      "78\n",
      "79\n",
      "80\n",
      "81\n",
      "82\n",
      "83\n",
      "84\n",
      "85\n",
      "86\n",
      "87\n",
      "88\n",
      "89\n",
      "90\n",
      "91\n",
      "92\n",
      "93\n",
      "94\n",
      "95\n",
      "96\n",
      "97\n",
      "98\n",
      "99\n",
      "100\n",
      "[0, 3, 6, 9, 12, 15, 18, 21, 24, 27, 30, 33, 36, 39, 42, 45, 48, 51, 54, 57, 60, 63, 66, 69, 72, 75, 78, 81, 84, 87, 90, 93, 96, 99]\n"
     ]
    }
   ],
   "source": [
    "y=[]\n",
    "for i in range(0,101):\n",
    "    print(i)\n",
    "    if i%3==0:\n",
    "      y.append(i)\n",
    "print(y)"
   ]
  },
  {
   "cell_type": "code",
   "execution_count": null,
   "id": "411bd33d-2673-4ce8-a3df-6fc9405c6b71",
   "metadata": {},
   "outputs": [],
   "source": []
  },
  {
   "cell_type": "code",
   "execution_count": 2,
   "id": "775b28b3-de8d-430c-a3a6-c449a43109e2",
   "metadata": {},
   "outputs": [
    {
     "name": "stdout",
     "output_type": "stream",
     "text": [
      "the number is 0 the mod is 0\n",
      "the number is 1 the mod is 1\n",
      "the number is 2 the mod is 2\n",
      "the number is 3 the mod is 0\n",
      "the number is 4 the mod is 1\n",
      "the number is 5 the mod is 2\n",
      "the number is 6 the mod is 0\n",
      "the number is 7 the mod is 1\n",
      "the number is 8 the mod is 2\n",
      "the number is 9 the mod is 0\n",
      "the number is 10 the mod is 1\n",
      "the number is 11 the mod is 2\n",
      "the number is 12 the mod is 0\n",
      "the number is 13 the mod is 1\n",
      "the number is 14 the mod is 2\n",
      "the number is 15 the mod is 0\n",
      "the number is 16 the mod is 1\n",
      "the number is 17 the mod is 2\n",
      "the number is 18 the mod is 0\n",
      "the number is 19 the mod is 1\n",
      "the number is 20 the mod is 2\n",
      "the number is 21 the mod is 0\n",
      "the number is 22 the mod is 1\n",
      "the number is 23 the mod is 2\n",
      "the number is 24 the mod is 0\n",
      "the number is 25 the mod is 1\n",
      "the number is 26 the mod is 2\n",
      "the number is 27 the mod is 0\n",
      "the number is 28 the mod is 1\n",
      "the number is 29 the mod is 2\n",
      "the number is 30 the mod is 0\n",
      "the number is 31 the mod is 1\n",
      "the number is 32 the mod is 2\n",
      "the number is 33 the mod is 0\n",
      "the number is 34 the mod is 1\n",
      "the number is 35 the mod is 2\n",
      "the number is 36 the mod is 0\n",
      "the number is 37 the mod is 1\n",
      "the number is 38 the mod is 2\n",
      "the number is 39 the mod is 0\n",
      "the number is 40 the mod is 1\n",
      "the number is 41 the mod is 2\n",
      "the number is 42 the mod is 0\n",
      "the number is 43 the mod is 1\n",
      "the number is 44 the mod is 2\n",
      "the number is 45 the mod is 0\n",
      "the number is 46 the mod is 1\n",
      "the number is 47 the mod is 2\n",
      "the number is 48 the mod is 0\n",
      "the number is 49 the mod is 1\n",
      "the number is 50 the mod is 2\n",
      "the number is 51 the mod is 0\n",
      "the number is 52 the mod is 1\n",
      "the number is 53 the mod is 2\n",
      "the number is 54 the mod is 0\n",
      "the number is 55 the mod is 1\n",
      "the number is 56 the mod is 2\n",
      "the number is 57 the mod is 0\n",
      "the number is 58 the mod is 1\n",
      "the number is 59 the mod is 2\n",
      "the number is 60 the mod is 0\n",
      "the number is 61 the mod is 1\n",
      "the number is 62 the mod is 2\n",
      "the number is 63 the mod is 0\n",
      "the number is 64 the mod is 1\n",
      "the number is 65 the mod is 2\n",
      "the number is 66 the mod is 0\n",
      "the number is 67 the mod is 1\n",
      "the number is 68 the mod is 2\n",
      "the number is 69 the mod is 0\n",
      "the number is 70 the mod is 1\n",
      "the number is 71 the mod is 2\n",
      "the number is 72 the mod is 0\n",
      "the number is 73 the mod is 1\n",
      "the number is 74 the mod is 2\n",
      "the number is 75 the mod is 0\n",
      "the number is 76 the mod is 1\n",
      "the number is 77 the mod is 2\n",
      "the number is 78 the mod is 0\n",
      "the number is 79 the mod is 1\n",
      "the number is 80 the mod is 2\n",
      "the number is 81 the mod is 0\n",
      "the number is 82 the mod is 1\n",
      "the number is 83 the mod is 2\n",
      "the number is 84 the mod is 0\n",
      "the number is 85 the mod is 1\n",
      "the number is 86 the mod is 2\n",
      "the number is 87 the mod is 0\n",
      "the number is 88 the mod is 1\n",
      "the number is 89 the mod is 2\n",
      "the number is 90 the mod is 0\n",
      "the number is 91 the mod is 1\n",
      "the number is 92 the mod is 2\n",
      "the number is 93 the mod is 0\n",
      "the number is 94 the mod is 1\n",
      "the number is 95 the mod is 2\n",
      "the number is 96 the mod is 0\n",
      "the number is 97 the mod is 1\n",
      "the number is 98 the mod is 2\n",
      "the number is 99 the mod is 0\n",
      "the number is 100 the mod is 1\n"
     ]
    }
   ],
   "source": [
    "y=[]\n",
    "for i in range(0,101):\n",
    "    print(\"the number is\",i, \"the mod is\", i%3)\n",
    "      #y.append(i)\n",
    "#print(y)"
   ]
  },
  {
   "cell_type": "code",
   "execution_count": 3,
   "id": "45be7032-b9c0-4a5f-994a-37a33745b2e0",
   "metadata": {
    "scrolled": true
   },
   "outputs": [
    {
     "ename": "SyntaxError",
     "evalue": "invalid syntax (2562956276.py, line 1)",
     "output_type": "error",
     "traceback": [
      "\u001b[1;36m  Cell \u001b[1;32mIn[3], line 1\u001b[1;36m\u001b[0m\n\u001b[1;33m    for i in 1..100:\u001b[0m\n\u001b[1;37m               ^\u001b[0m\n\u001b[1;31mSyntaxError\u001b[0m\u001b[1;31m:\u001b[0m invalid syntax\n"
     ]
    }
   ],
   "source": [
    "for i in 1..100:\n",
    "    print(\"the number is\",i, \"the mod is\", i%3)"
   ]
  },
  {
   "cell_type": "code",
   "execution_count": 4,
   "id": "0fc4cf48-2eb8-4df9-82be-f3315a07e4a8",
   "metadata": {},
   "outputs": [
    {
     "ename": "SyntaxError",
     "evalue": "unterminated string literal (detected at line 1) (2726635918.py, line 1)",
     "output_type": "error",
     "traceback": [
      "\u001b[1;36m  Cell \u001b[1;32mIn[4], line 1\u001b[1;36m\u001b[0m\n\u001b[1;33m    print(f\"The number is {i} \", and the mod is {i%3}\")\u001b[0m\n\u001b[1;37m                                                     ^\u001b[0m\n\u001b[1;31mSyntaxError\u001b[0m\u001b[1;31m:\u001b[0m unterminated string literal (detected at line 1)\n"
     ]
    }
   ],
   "source": [
    "print(f\"The number is {i} \", and the mod is {i%3}\")"
   ]
  },
  {
   "cell_type": "code",
   "execution_count": 5,
   "id": "abb58576-b61b-4e5b-80ed-0831de3d800f",
   "metadata": {},
   "outputs": [
    {
     "name": "stdout",
     "output_type": "stream",
     "text": [
      "The number is 0 , and the mod is 0\n",
      "The number is 1 , and the mod is 1\n",
      "The number is 2 , and the mod is 2\n",
      "The number is 3 , and the mod is 0\n",
      "The number is 4 , and the mod is 1\n",
      "The number is 5 , and the mod is 2\n",
      "The number is 6 , and the mod is 0\n",
      "The number is 7 , and the mod is 1\n",
      "The number is 8 , and the mod is 2\n",
      "The number is 9 , and the mod is 0\n",
      "The number is 10 , and the mod is 1\n",
      "The number is 11 , and the mod is 2\n",
      "The number is 12 , and the mod is 0\n",
      "The number is 13 , and the mod is 1\n",
      "The number is 14 , and the mod is 2\n",
      "The number is 15 , and the mod is 0\n",
      "The number is 16 , and the mod is 1\n",
      "The number is 17 , and the mod is 2\n",
      "The number is 18 , and the mod is 0\n",
      "The number is 19 , and the mod is 1\n",
      "The number is 20 , and the mod is 2\n",
      "The number is 21 , and the mod is 0\n",
      "The number is 22 , and the mod is 1\n",
      "The number is 23 , and the mod is 2\n",
      "The number is 24 , and the mod is 0\n",
      "The number is 25 , and the mod is 1\n",
      "The number is 26 , and the mod is 2\n",
      "The number is 27 , and the mod is 0\n",
      "The number is 28 , and the mod is 1\n",
      "The number is 29 , and the mod is 2\n",
      "The number is 30 , and the mod is 0\n",
      "The number is 31 , and the mod is 1\n",
      "The number is 32 , and the mod is 2\n",
      "The number is 33 , and the mod is 0\n",
      "The number is 34 , and the mod is 1\n",
      "The number is 35 , and the mod is 2\n",
      "The number is 36 , and the mod is 0\n",
      "The number is 37 , and the mod is 1\n",
      "The number is 38 , and the mod is 2\n",
      "The number is 39 , and the mod is 0\n",
      "The number is 40 , and the mod is 1\n",
      "The number is 41 , and the mod is 2\n",
      "The number is 42 , and the mod is 0\n",
      "The number is 43 , and the mod is 1\n",
      "The number is 44 , and the mod is 2\n",
      "The number is 45 , and the mod is 0\n",
      "The number is 46 , and the mod is 1\n",
      "The number is 47 , and the mod is 2\n",
      "The number is 48 , and the mod is 0\n",
      "The number is 49 , and the mod is 1\n",
      "The number is 50 , and the mod is 2\n",
      "The number is 51 , and the mod is 0\n",
      "The number is 52 , and the mod is 1\n",
      "The number is 53 , and the mod is 2\n",
      "The number is 54 , and the mod is 0\n",
      "The number is 55 , and the mod is 1\n",
      "The number is 56 , and the mod is 2\n",
      "The number is 57 , and the mod is 0\n",
      "The number is 58 , and the mod is 1\n",
      "The number is 59 , and the mod is 2\n",
      "The number is 60 , and the mod is 0\n",
      "The number is 61 , and the mod is 1\n",
      "The number is 62 , and the mod is 2\n",
      "The number is 63 , and the mod is 0\n",
      "The number is 64 , and the mod is 1\n",
      "The number is 65 , and the mod is 2\n",
      "The number is 66 , and the mod is 0\n",
      "The number is 67 , and the mod is 1\n",
      "The number is 68 , and the mod is 2\n",
      "The number is 69 , and the mod is 0\n",
      "The number is 70 , and the mod is 1\n",
      "The number is 71 , and the mod is 2\n",
      "The number is 72 , and the mod is 0\n",
      "The number is 73 , and the mod is 1\n",
      "The number is 74 , and the mod is 2\n",
      "The number is 75 , and the mod is 0\n",
      "The number is 76 , and the mod is 1\n",
      "The number is 77 , and the mod is 2\n",
      "The number is 78 , and the mod is 0\n",
      "The number is 79 , and the mod is 1\n",
      "The number is 80 , and the mod is 2\n",
      "The number is 81 , and the mod is 0\n",
      "The number is 82 , and the mod is 1\n",
      "The number is 83 , and the mod is 2\n",
      "The number is 84 , and the mod is 0\n",
      "The number is 85 , and the mod is 1\n",
      "The number is 86 , and the mod is 2\n",
      "The number is 87 , and the mod is 0\n",
      "The number is 88 , and the mod is 1\n",
      "The number is 89 , and the mod is 2\n",
      "The number is 90 , and the mod is 0\n",
      "The number is 91 , and the mod is 1\n",
      "The number is 92 , and the mod is 2\n",
      "The number is 93 , and the mod is 0\n",
      "The number is 94 , and the mod is 1\n",
      "The number is 95 , and the mod is 2\n",
      "The number is 96 , and the mod is 0\n",
      "The number is 97 , and the mod is 1\n",
      "The number is 98 , and the mod is 2\n",
      "The number is 99 , and the mod is 0\n",
      "The number is 100 , and the mod is 1\n"
     ]
    }
   ],
   "source": [
    "for i in range(0,101):\n",
    "    print(f\"The number is {i} , and the mod is {i%3}\")"
   ]
  },
  {
   "cell_type": "code",
   "execution_count": null,
   "id": "065e5cff-57b3-42cb-9bd7-7857ae395846",
   "metadata": {},
   "outputs": [],
   "source": []
  }
 ],
 "metadata": {
  "kernelspec": {
   "display_name": "Python [conda env:base] *",
   "language": "python",
   "name": "conda-base-py"
  },
  "language_info": {
   "codemirror_mode": {
    "name": "ipython",
    "version": 3
   },
   "file_extension": ".py",
   "mimetype": "text/x-python",
   "name": "python",
   "nbconvert_exporter": "python",
   "pygments_lexer": "ipython3",
   "version": "3.13.5"
  }
 },
 "nbformat": 4,
 "nbformat_minor": 5
}
