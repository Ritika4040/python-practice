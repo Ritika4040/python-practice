{
 "cells": [
  {
   "cell_type": "code",
   "execution_count": 6,
   "id": "93a2710e-fead-4fa7-a4aa-cf2698682b2b",
   "metadata": {},
   "outputs": [
    {
     "name": "stdout",
     "output_type": "stream",
     "text": [
      "['this', 'is', 'a', 'test']\n"
     ]
    }
   ],
   "source": [
    "n='this is a test'\n",
    "cmd=n.split(\" \")\n",
    "print(cmd)"
   ]
  },
  {
   "cell_type": "code",
   "execution_count": 9,
   "id": "eb873928-d0d4-43e0-87bb-67c7d0593b4e",
   "metadata": {},
   "outputs": [
    {
     "name": "stdout",
     "output_type": "stream",
     "text": [
      "this_is_a_test\n"
     ]
    }
   ],
   "source": [
    "n='this is a test'\n",
    "cmd=n.replace(\" \",\"_\")\n",
    "print(cmd)\n"
   ]
  },
  {
   "cell_type": "code",
   "execution_count": 11,
   "id": "d3d00f9e-41e1-47fd-9a6d-1e76290fc2b7",
   "metadata": {},
   "outputs": [
    {
     "name": "stdin",
     "output_type": "stream",
     "text": [
      " this is a test\n"
     ]
    },
    {
     "name": "stdout",
     "output_type": "stream",
     "text": [
      "this_is_a_test\n"
     ]
    }
   ],
   "source": [
    "n=input()\n",
    "cmd=n.replace(\" \",\"_\")\n",
    "print(cmd)"
   ]
  },
  {
   "cell_type": "code",
   "execution_count": 14,
   "id": "24795516-f2df-4fb8-91be-27e1661449c7",
   "metadata": {},
   "outputs": [
    {
     "name": "stdin",
     "output_type": "stream",
     "text": [
      " hello\n"
     ]
    },
    {
     "name": "stdout",
     "output_type": "stream",
     "text": [
      "{'h': 1, 'e': 1, 'l': 2, 'o': 1}\n"
     ]
    }
   ],
   "source": [
    "n=input()\n",
    "count={}\n",
    "for text in n:\n",
    "    if text in count:\n",
    "        count[text] += 1\n",
    "    else:\n",
    "        count[text]=1\n",
    "print(count)"
   ]
  },
  {
   "cell_type": "code",
   "execution_count": 21,
   "id": "723ee93e-2037-445a-b82a-69a5b146a662",
   "metadata": {},
   "outputs": [
    {
     "name": "stdout",
     "output_type": "stream",
     "text": [
      "12345\n"
     ]
    }
   ],
   "source": [
    "t = \"abc123xyz45\"\n",
    "digit = \"\"\n",
    "\n",
    "for i in t:\n",
    "    if i.isdigit():\n",
    "        digit += i\n",
    "\n",
    "print(digit)"
   ]
  },
  {
   "cell_type": "code",
   "execution_count": null,
   "id": "c725fab8-7f14-4b97-9ee2-d7a04703d8c5",
   "metadata": {},
   "outputs": [],
   "source": []
  }
 ],
 "metadata": {
  "kernelspec": {
   "display_name": "Python [conda env:base] *",
   "language": "python",
   "name": "conda-base-py"
  },
  "language_info": {
   "codemirror_mode": {
    "name": "ipython",
    "version": 3
   },
   "file_extension": ".py",
   "mimetype": "text/x-python",
   "name": "python",
   "nbconvert_exporter": "python",
   "pygments_lexer": "ipython3",
   "version": "3.13.5"
  }
 },
 "nbformat": 4,
 "nbformat_minor": 5
}
