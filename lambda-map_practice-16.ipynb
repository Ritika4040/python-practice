{
 "cells": [
  {
   "cell_type": "code",
   "execution_count": 38,
   "id": "1f2d3af4-5732-4a51-8033-f6ddbc39619c",
   "metadata": {},
   "outputs": [
    {
     "name": "stdout",
     "output_type": "stream",
     "text": [
      "16\n"
     ]
    }
   ],
   "source": [
    "square = lambda x: x * x\n",
    "print(square(4))  \n"
   ]
  },
  {
   "cell_type": "code",
   "execution_count": 39,
   "id": "d5cd4dac-9be7-4730-8358-a76c7c04a3b5",
   "metadata": {},
   "outputs": [
    {
     "name": "stdout",
     "output_type": "stream",
     "text": [
      "[1, 4, 9, 16]\n"
     ]
    }
   ],
   "source": [
    "nums = [1, 2, 3, 4]\n",
    "squares = list(map(lambda x: x ** 2, nums))\n",
    "print(squares) "
   ]
  },
  {
   "cell_type": "code",
   "execution_count": 40,
   "id": "dd994857-5cd8-4a1c-9657-a2121a6b522d",
   "metadata": {},
   "outputs": [],
   "source": [
    "nums = [1, 2, 3, 4, 5]"
   ]
  },
  {
   "cell_type": "code",
   "execution_count": 41,
   "id": "22486c85-46c4-4f2e-88c0-7f5d14cc7ebf",
   "metadata": {},
   "outputs": [],
   "source": [
    "def square(num):\n",
    "    return num ** 2"
   ]
  },
  {
   "cell_type": "code",
   "execution_count": 42,
   "id": "b0d95086-e27c-400e-bee9-a71668008f7d",
   "metadata": {},
   "outputs": [],
   "source": [
    "squared_map = map(square, nums)"
   ]
  },
  {
   "cell_type": "code",
   "execution_count": 43,
   "id": "6f46f71d-d5a2-4dda-9bea-bb14cd2bf34c",
   "metadata": {},
   "outputs": [
    {
     "name": "stdout",
     "output_type": "stream",
     "text": [
      "1\n",
      "4\n",
      "9\n",
      "16\n",
      "25\n"
     ]
    }
   ],
   "source": [
    "for item in squared_map:\n",
    "    print(item)"
   ]
  },
  {
   "cell_type": "code",
   "execution_count": 44,
   "id": "4da38ca0-6866-4f1a-8e63-b9760601eeeb",
   "metadata": {},
   "outputs": [],
   "source": [
    "squared_list = list(map(square, nums))"
   ]
  },
  {
   "cell_type": "code",
   "execution_count": 45,
   "id": "edbb6148-d6bb-458a-8dac-ffb14d2d0866",
   "metadata": {},
   "outputs": [],
   "source": [
    "names = ['Andy', 'Eve', 'Sally']"
   ]
  },
  {
   "cell_type": "code",
   "execution_count": 46,
   "id": "19e10ce1-5b52-473d-a155-df34d2c29672",
   "metadata": {},
   "outputs": [],
   "source": [
    "def splicer(mystring):\n",
    "    if len(mystring) % 2 == 0:\n",
    "        return 'EVEN'\n",
    "    else:\n",
    "        return mystring[0]"
   ]
  },
  {
   "cell_type": "code",
   "execution_count": 47,
   "id": "7c596519-0a1d-42df-bc42-5c85d838ff5f",
   "metadata": {},
   "outputs": [],
   "source": [
    "result = list(map(splicer, names))"
   ]
  },
  {
   "cell_type": "code",
   "execution_count": 48,
   "id": "73e982aa-94d8-4bd3-909d-5abb16b7a0ed",
   "metadata": {},
   "outputs": [
    {
     "data": {
      "text/plain": [
       "['EVEN', 'E', 'S']"
      ]
     },
     "execution_count": 48,
     "metadata": {},
     "output_type": "execute_result"
    }
   ],
   "source": [
    "result"
   ]
  },
  {
   "cell_type": "code",
   "execution_count": 49,
   "id": "7a05152d-397d-41a4-b101-d4a113173e17",
   "metadata": {},
   "outputs": [
    {
     "name": "stdout",
     "output_type": "stream",
     "text": [
      "[2, 4, 6]\n"
     ]
    }
   ],
   "source": [
    "nums = [1, 2, 3, 4, 5, 6]\n",
    "evens = list(filter(lambda x: x % 2 == 0, nums))\n",
    "print(evens)"
   ]
  },
  {
   "cell_type": "code",
   "execution_count": 50,
   "id": "66f83d4e-83df-46f4-8e7b-a64c7e43c28f",
   "metadata": {},
   "outputs": [],
   "source": [
    "mynums = [1, 2, 3, 4, 5, 6]"
   ]
  },
  {
   "cell_type": "code",
   "execution_count": 51,
   "id": "83c25e40-dd7e-4aa4-b5cf-1db63c6cf128",
   "metadata": {},
   "outputs": [],
   "source": [
    "def check_even(num):\n",
    "    return num % 2 == 0"
   ]
  },
  {
   "cell_type": "code",
   "execution_count": 52,
   "id": "32435178-d8ff-42af-9dab-8747713e266a",
   "metadata": {},
   "outputs": [],
   "source": [
    "even_nums = list(filter(check_even, mynums))"
   ]
  },
  {
   "cell_type": "code",
   "execution_count": 53,
   "id": "42088b53-3958-4b05-9048-493f6be2ce6d",
   "metadata": {},
   "outputs": [
    {
     "name": "stdout",
     "output_type": "stream",
     "text": [
      "2\n",
      "4\n",
      "6\n"
     ]
    }
   ],
   "source": [
    "for n in filter(check_even, mynums):\n",
    "    print(n)"
   ]
  },
  {
   "cell_type": "code",
   "execution_count": 54,
   "id": "a1d249b9-f009-4443-b317-ad59ed9c34d9",
   "metadata": {},
   "outputs": [],
   "source": [
    "def square_num(num):\n",
    "    result = num ** 2\n",
    "    return result"
   ]
  },
  {
   "cell_type": "code",
   "execution_count": 55,
   "id": "74ef4aab-74db-4dde-8a11-5c84c3b492eb",
   "metadata": {},
   "outputs": [],
   "source": [
    "def square_num(num): return num ** 2"
   ]
  },
  {
   "cell_type": "code",
   "execution_count": 56,
   "id": "516b72cc-4e90-45ea-80b3-700bc4d3bb96",
   "metadata": {},
   "outputs": [],
   "source": [
    "square = lambda num: num ** 2"
   ]
  },
  {
   "cell_type": "code",
   "execution_count": 57,
   "id": "0f1c894d-1cdc-4c0c-8f72-6ad01d96cbd7",
   "metadata": {},
   "outputs": [
    {
     "data": {
      "text/plain": [
       "[1, 4, 9, 16, 25, 36]"
      ]
     },
     "execution_count": 57,
     "metadata": {},
     "output_type": "execute_result"
    }
   ],
   "source": [
    "list(map(lambda num: num ** 2, mynums))"
   ]
  },
  {
   "cell_type": "code",
   "execution_count": 58,
   "id": "9c0dd647-ffe9-4ad8-b86a-388223fa18b7",
   "metadata": {},
   "outputs": [
    {
     "data": {
      "text/plain": [
       "[2, 4, 6]"
      ]
     },
     "execution_count": 58,
     "metadata": {},
     "output_type": "execute_result"
    }
   ],
   "source": [
    "list(filter(lambda num: num % 2 == 0, mynums))"
   ]
  },
  {
   "cell_type": "code",
   "execution_count": 59,
   "id": "0475b535-08f1-4ef7-be1e-229634b6f8ae",
   "metadata": {},
   "outputs": [
    {
     "data": {
      "text/plain": [
       "['A', 'E', 'S']"
      ]
     },
     "execution_count": 59,
     "metadata": {},
     "output_type": "execute_result"
    }
   ],
   "source": [
    "list(map(lambda name: name[0], names))"
   ]
  },
  {
   "cell_type": "code",
   "execution_count": 60,
   "id": "dcd21711-d8a1-4683-a51c-a651b32ab3c3",
   "metadata": {},
   "outputs": [
    {
     "data": {
      "text/plain": [
       "['ydnA', 'evE', 'yllaS']"
      ]
     },
     "execution_count": 60,
     "metadata": {},
     "output_type": "execute_result"
    }
   ],
   "source": [
    "list(map(lambda name: name[::-1], names))"
   ]
  },
  {
   "cell_type": "code",
   "execution_count": null,
   "id": "6119193d-55aa-4b3f-864c-c3faafc55777",
   "metadata": {},
   "outputs": [],
   "source": []
  },
  {
   "cell_type": "code",
   "execution_count": null,
   "id": "f5b7ea67-52ae-46c6-af70-a833d9c8a84d",
   "metadata": {},
   "outputs": [],
   "source": []
  }
 ],
 "metadata": {
  "kernelspec": {
   "display_name": "Python [conda env:base] *",
   "language": "python",
   "name": "conda-base-py"
  },
  "language_info": {
   "codemirror_mode": {
    "name": "ipython",
    "version": 3
   },
   "file_extension": ".py",
   "mimetype": "text/x-python",
   "name": "python",
   "nbconvert_exporter": "python",
   "pygments_lexer": "ipython3",
   "version": "3.13.5"
  }
 },
 "nbformat": 4,
 "nbformat_minor": 5
}
