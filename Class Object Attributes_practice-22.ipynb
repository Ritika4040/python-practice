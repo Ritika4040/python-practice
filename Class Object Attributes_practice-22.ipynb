{
 "cells": [
  {
   "cell_type": "code",
   "execution_count": 1,
   "id": "900a47bd-b736-461f-b47e-d2c14d804392",
   "metadata": {},
   "outputs": [],
   "source": [
    "class Dog:\n",
    "    def __init__(self, breed, name, spots):\n",
    "        self.breed = breed\n",
    "        self.name = name\n",
    "        self.spots = spots"
   ]
  },
  {
   "cell_type": "code",
   "execution_count": 8,
   "id": "0686cef8-8c57-40b8-a6d1-5d8bf495ef33",
   "metadata": {},
   "outputs": [],
   "source": [
    "class Dog:\n",
    "    species = 'mammal'\n",
    "    def __init__(self, breed, name, spots):\n",
    "        self.breed = breed\n",
    "        self.name = name\n",
    "        self.spots = spots"
   ]
  },
  {
   "cell_type": "code",
   "execution_count": 9,
   "id": "29b9049c-2372-4cd5-a44f-48561903679f",
   "metadata": {},
   "outputs": [
    {
     "name": "stdout",
     "output_type": "stream",
     "text": [
      "mammal\n"
     ]
    }
   ],
   "source": [
    "my_dog = Dog('lab', 'Sam', False)\n",
    "print(my_dog.species)  # Output: mammal"
   ]
  },
  {
   "cell_type": "code",
   "execution_count": 11,
   "id": "be615af7-a00e-40c0-b1a9-41628933207f",
   "metadata": {},
   "outputs": [],
   "source": [
    "class Dog:\n",
    "    species = 'mammal'\n",
    "    def __init__(self, breed, name):\n",
    "        self.breed = breed\n",
    "        self.name = name\n",
    "    def bark(self):\n",
    "        print('Woof!')"
   ]
  },
  {
   "cell_type": "code",
   "execution_count": 12,
   "id": "00baca54-1fae-44c1-8683-121e2e41b00e",
   "metadata": {},
   "outputs": [
    {
     "name": "stdout",
     "output_type": "stream",
     "text": [
      "Woof!\n"
     ]
    }
   ],
   "source": [
    "my_dog = Dog('lab', 'Frankie')\n",
    "my_dog.bark()  # Output: Woof!"
   ]
  },
  {
   "cell_type": "code",
   "execution_count": 13,
   "id": "5b24fb9c-46f9-4475-9882-3fa7538abfe4",
   "metadata": {},
   "outputs": [],
   "source": [
    "class Dog:\n",
    "    species = 'mammal'\n",
    "    def __init__(self, breed, name):\n",
    "        self.breed = breed\n",
    "        self.name = name\n",
    "    def bark(self):\n",
    "        print('Woof! My name is {}.'.format(self.name))"
   ]
  },
  {
   "cell_type": "code",
   "execution_count": 14,
   "id": "c2b92d83-c3d6-49cb-99b2-8735c6ac3a8b",
   "metadata": {},
   "outputs": [
    {
     "name": "stdout",
     "output_type": "stream",
     "text": [
      "Woof! My name is Frankie.\n"
     ]
    }
   ],
   "source": [
    "my_dog = Dog('lab', 'Frankie')\n",
    "my_dog.bark()  "
   ]
  },
  {
   "cell_type": "code",
   "execution_count": 15,
   "id": "0fffdd01-52e0-40b0-8971-d1c7cd922a0c",
   "metadata": {},
   "outputs": [],
   "source": [
    "class Dog:\n",
    "    species = 'mammal'\n",
    "    def __init__(self, breed, name):\n",
    "        self.breed = breed\n",
    "        self.name = name\n",
    "    def bark(self, number):\n",
    "        print('Woof! My name is {} and the number is {}.'.format(self.name, number))"
   ]
  },
  {
   "cell_type": "code",
   "execution_count": 17,
   "id": "081f35b3-b05c-4362-ac92-a39cbc6d2553",
   "metadata": {},
   "outputs": [
    {
     "name": "stdout",
     "output_type": "stream",
     "text": [
      "Woof! My name is Frankie and the number is 10.\n"
     ]
    }
   ],
   "source": [
    "my_dog = Dog('lab', 'Frankie')\n",
    "my_dog.bark(10)  "
   ]
  },
  {
   "cell_type": "code",
   "execution_count": 18,
   "id": "66dcdb46-8a78-4f31-9b1d-fec3d45e08ae",
   "metadata": {},
   "outputs": [],
   "source": [
    "class Circle:\n",
    "    pi = 3.14\n",
    "    def __init__(self, radius=1):\n",
    "        self.radius = radius\n",
    "    def get_circumference(self):\n",
    "        return self.radius * Circle.pi * 2"
   ]
  },
  {
   "cell_type": "code",
   "execution_count": 19,
   "id": "76f9d967-5a80-4339-b7d5-028ca5ec1da1",
   "metadata": {},
   "outputs": [
    {
     "name": "stdout",
     "output_type": "stream",
     "text": [
      "188.4\n"
     ]
    }
   ],
   "source": [
    "my_circle = Circle(30)\n",
    "print(my_circle.get_circumference())  # Output: 188.4"
   ]
  },
  {
   "cell_type": "code",
   "execution_count": 20,
   "id": "7b8afa3c-ae5b-4012-9adb-e8a9dd11a2c5",
   "metadata": {},
   "outputs": [],
   "source": [
    "class Circle:\n",
    "    pi = 3.14\n",
    "    def __init__(self, radius=1):\n",
    "        self.radius = radius\n",
    "        self.area = radius * radius * Circle.pi"
   ]
  },
  {
   "cell_type": "code",
   "execution_count": 22,
   "id": "dbf14300-c448-46d8-a509-6309236d45fb",
   "metadata": {},
   "outputs": [
    {
     "name": "stdout",
     "output_type": "stream",
     "text": [
      "2826.0\n"
     ]
    }
   ],
   "source": [
    "my_circle = Circle(30)\n",
    "print(my_circle.area) "
   ]
  },
  {
   "cell_type": "code",
   "execution_count": 23,
   "id": "ee309795-70c3-482c-b308-3e0a824f6f13",
   "metadata": {},
   "outputs": [
    {
     "name": "stdout",
     "output_type": "stream",
     "text": [
      "3.14\n",
      "3.14\n"
     ]
    }
   ],
   "source": [
    "print(Circle.pi) \n",
    "print(my_circle.pi)  "
   ]
  },
  {
   "cell_type": "code",
   "execution_count": null,
   "id": "b5021eef-578c-474a-bf3b-65adaf6b0e0f",
   "metadata": {},
   "outputs": [],
   "source": []
  }
 ],
 "metadata": {
  "kernelspec": {
   "display_name": "Python [conda env:base] *",
   "language": "python",
   "name": "conda-base-py"
  },
  "language_info": {
   "codemirror_mode": {
    "name": "ipython",
    "version": 3
   },
   "file_extension": ".py",
   "mimetype": "text/x-python",
   "name": "python",
   "nbconvert_exporter": "python",
   "pygments_lexer": "ipython3",
   "version": "3.13.5"
  }
 },
 "nbformat": 4,
 "nbformat_minor": 5
}
